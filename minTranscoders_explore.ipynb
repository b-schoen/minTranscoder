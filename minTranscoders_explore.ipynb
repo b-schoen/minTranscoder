{
 "cells": [
  {
   "cell_type": "code",
   "execution_count": 1,
   "id": "8136c449-8445-45fd-8d23-358f6e639e67",
   "metadata": {},
   "outputs": [],
   "source": [
    "# some ipython magic to automatically reload any imports if they change\n",
    "# (useful when iterating locally)\n",
    "\n",
    "from IPython import get_ipython\n",
    "\n",
    "# do this so that formatter not messed up\n",
    "ipython = get_ipython()\n",
    "ipython.run_line_magic(\"load_ext\", \"autoreload\")\n",
    "ipython.run_line_magic(\"autoreload\", \"2\")"
   ]
  },
  {
   "cell_type": "markdown",
   "id": "f1271761",
   "metadata": {},
   "source": [
    "# Load Model"
   ]
  },
  {
   "cell_type": "code",
   "execution_count": 2,
   "id": "c57a2677",
   "metadata": {},
   "outputs": [
    {
     "name": "stderr",
     "output_type": "stream",
     "text": [
      "/home/ubuntu/minTranscoder/venv/lib/python3.10/site-packages/tqdm/auto.py:21: TqdmWarning: IProgress not found. Please update jupyter and ipywidgets. See https://ipywidgets.readthedocs.io/en/stable/user_install.html\n",
      "  from .autonotebook import tqdm as notebook_tqdm\n"
     ]
    },
    {
     "name": "stdout",
     "output_type": "stream",
     "text": [
      "Using device: cuda\n"
     ]
    }
   ],
   "source": [
    "import transformer_lens\n",
    "import tqdm\n",
    "import wandb\n",
    "\n",
    "# load the device we'll use (GPU or MPS)\n",
    "device = transformer_lens.utils.get_device()\n",
    "\n",
    "print(f\"Using device: {device}\")"
   ]
  },
  {
   "cell_type": "code",
   "execution_count": 3,
   "id": "e3bb617d",
   "metadata": {},
   "outputs": [
    {
     "name": "stderr",
     "output_type": "stream",
     "text": [
      "/home/ubuntu/minTranscoder/venv/lib/python3.10/site-packages/transformers/tokenization_utils_base.py:1601: FutureWarning: `clean_up_tokenization_spaces` was not set. It will be set to `True` by default. This behavior will be depracted in transformers v4.45, and will be then set to `False` by default. For more details check this issue: https://github.com/huggingface/transformers/issues/31884\n",
      "  warnings.warn(\n"
     ]
    },
    {
     "name": "stdout",
     "output_type": "stream",
     "text": [
      "Loaded pretrained model gpt2-small into HookedTransformer\n"
     ]
    }
   ],
   "source": [
    "# load our model\n",
    "model_name = \"gpt2-small\"\n",
    "model = transformer_lens.HookedTransformer.from_pretrained(\n",
    "    model_name,\n",
    "    center_unembed=True,\n",
    "    center_writing_weights=True,\n",
    "    fold_ln=True,\n",
    "    refactor_factored_attn_matrices=True,\n",
    "    device=device,\n",
    ")"
   ]
  },
  {
   "cell_type": "code",
   "execution_count": 4,
   "id": "1587a55f",
   "metadata": {},
   "outputs": [
    {
     "name": "stdout",
     "output_type": "stream",
     "text": [
      "Tokenized prompt: ['<|endoftext|>', 'After', ' John', ' and', ' Mary', ' went', ' to', ' the', ' store', ',', ' John', ' gave', ' a', ' bottle', ' of', ' milk', ' to']\n",
      "Tokenized answer: [' Mary']\n"
     ]
    },
    {
     "data": {
      "text/html": [
       "<pre style=\"white-space:pre;overflow-x:auto;line-height:normal;font-family:Menlo,'DejaVu Sans Mono',consolas,'Courier New',monospace\">Performance on answer token:\n",
       "<span style=\"font-weight: bold\">Rank: </span><span style=\"color: #008080; text-decoration-color: #008080; font-weight: bold\">0</span><span style=\"font-weight: bold\">        Logit: </span><span style=\"color: #008080; text-decoration-color: #008080; font-weight: bold\">18.09</span><span style=\"font-weight: bold\"> Prob: </span><span style=\"color: #008080; text-decoration-color: #008080; font-weight: bold\">70.07</span><span style=\"font-weight: bold\">% Token: | Mary|</span>\n",
       "</pre>\n"
      ],
      "text/plain": [
       "Performance on answer token:\n",
       "\u001b[1mRank: \u001b[0m\u001b[1;36m0\u001b[0m\u001b[1m        Logit: \u001b[0m\u001b[1;36m18.09\u001b[0m\u001b[1m Prob: \u001b[0m\u001b[1;36m70.07\u001b[0m\u001b[1m% Token: | Mary|\u001b[0m\n"
      ]
     },
     "metadata": {},
     "output_type": "display_data"
    },
    {
     "name": "stdout",
     "output_type": "stream",
     "text": [
      "Top 0th token. Logit: 18.09 Prob: 70.07% Token: | Mary|\n",
      "Top 1th token. Logit: 15.38 Prob:  4.67% Token: | the|\n",
      "Top 2th token. Logit: 15.35 Prob:  4.54% Token: | John|\n",
      "Top 3th token. Logit: 15.25 Prob:  4.11% Token: | them|\n",
      "Top 4th token. Logit: 14.84 Prob:  2.73% Token: | his|\n",
      "Top 5th token. Logit: 14.06 Prob:  1.24% Token: | her|\n",
      "Top 6th token. Logit: 13.54 Prob:  0.74% Token: | a|\n",
      "Top 7th token. Logit: 13.52 Prob:  0.73% Token: | their|\n",
      "Top 8th token. Logit: 13.13 Prob:  0.49% Token: | Jesus|\n",
      "Top 9th token. Logit: 12.97 Prob:  0.42% Token: | him|\n"
     ]
    },
    {
     "data": {
      "text/html": [
       "<pre style=\"white-space:pre;overflow-x:auto;line-height:normal;font-family:Menlo,'DejaVu Sans Mono',consolas,'Courier New',monospace\"><span style=\"font-weight: bold\">Ranks of the answer tokens:</span> <span style=\"font-weight: bold\">[(</span><span style=\"color: #008000; text-decoration-color: #008000\">' Mary'</span>, <span style=\"color: #008080; text-decoration-color: #008080; font-weight: bold\">0</span><span style=\"font-weight: bold\">)]</span>\n",
       "</pre>\n"
      ],
      "text/plain": [
       "\u001b[1mRanks of the answer tokens:\u001b[0m \u001b[1m[\u001b[0m\u001b[1m(\u001b[0m\u001b[32m' Mary'\u001b[0m, \u001b[1;36m0\u001b[0m\u001b[1m)\u001b[0m\u001b[1m]\u001b[0m\n"
      ]
     },
     "metadata": {},
     "output_type": "display_data"
    }
   ],
   "source": [
    "# sanity check with an example\n",
    "example_prompt = \"After John and Mary went to the store, John gave a bottle of milk to\"\n",
    "example_answer = \" Mary\"\n",
    "transformer_lens.utils.test_prompt(\n",
    "    example_prompt,\n",
    "    example_answer,\n",
    "    model,\n",
    "    prepend_bos=True,\n",
    ")"
   ]
  },
  {
   "cell_type": "markdown",
   "id": "54629d69",
   "metadata": {},
   "source": [
    "# Define Transcoder Config"
   ]
  },
  {
   "cell_type": "code",
   "execution_count": 52,
   "id": "6b3c8476",
   "metadata": {},
   "outputs": [],
   "source": [
    "import dataclasses\n",
    "import torch\n",
    "from jaxtyping import Float\n",
    "\n",
    "import torch.nn.functional as F\n",
    "\n",
    "from min_transcoder.transcoder import (\n",
    "    TranscoderResults,\n",
    "    TranscoderConfig,\n",
    "    Transcoder,\n",
    ")\n",
    "\n",
    "\n",
    "@dataclasses.dataclass\n",
    "class TranscoderTrainingConfig:\n",
    "\n",
    "    # Name of the layer to hook into for feature extraction\n",
    "    hook_point: str\n",
    "    out_hook_point: str\n",
    "\n",
    "    num_epochs: int = 100\n",
    "\n",
    "    # both from https://arxiv.org/html/2406.11944v1#S3 appendix E\n",
    "    #\n",
    "    # these are currently from https://github.com/jacobdunefsky/transcoder_circuits/blob/master/train_transcoder.py#L25 though\n",
    "    # learning_rate: float = 0.0004 * 10\n",
    "    # l1_coefficient: float = 0.0014 * 10\n",
    "    learning_rate: float = 2 * 10e-3\n",
    "    l1_coefficient: float = 5.5 * 10e-5\n",
    "\n",
    "    @property\n",
    "    def hook_point_layer(self) -> int:\n",
    "        \"Parse out the hook point layer as int ex: 'blocks.8.ln2.hook_normalized' -> 8\"\n",
    "        return int(self.hook_point.split(\".\")[1])\n",
    "\n",
    "\n",
    "@dataclasses.dataclass\n",
    "class TranscoderLoss:\n",
    "    mse_loss: Float[torch.Tensor, \"\"]\n",
    "    l1_loss: Float[torch.Tensor, \"\"]\n",
    "\n",
    "\n",
    "def compute_loss(\n",
    "    cfg: TranscoderTrainingConfig,\n",
    "    mlp_out: Float[torch.Tensor, \"batch seq d_model\"],\n",
    "    results: TranscoderResults,\n",
    ") -> TranscoderLoss:\n",
    "    # Compute MSE loss for each example in the batch\n",
    "    mse_loss_per_example: Float[torch.Tensor, \"batch\"] = F.mse_loss(\n",
    "        results.transcoder_out, mlp_out, reduction=\"none\"\n",
    "    ).mean(\n",
    "        dim=(1, 2)\n",
    "    )  # Mean across seq and d_model dimensions\n",
    "\n",
    "    # Take the mean across the batch\n",
    "    mse_loss = mse_loss_per_example.mean()\n",
    "\n",
    "    # Compute L1 loss (sparsity regularization) on hidden activations\n",
    "    sparsity: Float[torch.Tensor, \"d_hidden\"] = torch.abs(\n",
    "        results.hidden_activations\n",
    "    ).mean(dim=(0, 1))\n",
    "    l1_loss = cfg.l1_coefficient * sparsity.sum()\n",
    "\n",
    "    return TranscoderLoss(mse_loss=mse_loss, l1_loss=l1_loss)\n",
    "\n",
    "\n",
    "# from https://arxiv.org/html/2406.11944v1#S3 appendix E\n",
    "# transcoder_expansion_factor = 32\n",
    "transcoder_expansion_factor = 64\n",
    "\n",
    "transcoder_cfg = TranscoderConfig(\n",
    "    d_in=model.cfg.d_model,\n",
    "    d_out=model.cfg.d_model,\n",
    "    # our transcoder has a hidden dimension of d_mlp * expansion factor\n",
    "    d_hidden=model.cfg.d_mlp * transcoder_expansion_factor,\n",
    "    dtype=model.cfg.dtype,\n",
    "    device=device,\n",
    ")\n",
    "\n",
    "# Define training parameters\n",
    "layer = 11\n",
    "\n",
    "training_cfg = TranscoderTrainingConfig(\n",
    "    num_epochs=5,\n",
    "    hook_point=f\"blocks.{layer}.ln2.hook_normalized\",\n",
    "    out_hook_point=f\"blocks.{layer}.hook_mlp_out\",\n",
    ")"
   ]
  },
  {
   "cell_type": "code",
   "execution_count": 53,
   "id": "ab8b12ba",
   "metadata": {},
   "outputs": [
    {
     "name": "stdout",
     "output_type": "stream",
     "text": [
      "model.cfg.n_layers=12\n",
      "model.cfg.d_mlp=3072\n"
     ]
    }
   ],
   "source": [
    "print(f\"{model.cfg.n_layers=}\")\n",
    "print(f\"{model.cfg.d_mlp=}\")"
   ]
  },
  {
   "cell_type": "markdown",
   "id": "be1cbe0b",
   "metadata": {},
   "source": [
    "# Load Data"
   ]
  },
  {
   "cell_type": "code",
   "execution_count": 7,
   "id": "a26733ce",
   "metadata": {},
   "outputs": [],
   "source": [
    "import datasets\n",
    "import numpy as np\n",
    "import torch\n",
    "from torch.utils.data import Dataset, DataLoader\n",
    "\n",
    "\n",
    "def create_tokenized_dataloader(\n",
    "    max_length: int = 128,\n",
    "    batch_size: int = 64,\n",
    "    num_samples: int = 10000,\n",
    "    shuffle: bool = True,\n",
    ") -> DataLoader:\n",
    "\n",
    "    print(\"Loading dataset...\")\n",
    "    dataset = datasets.load_dataset(\n",
    "        path=\"NeelNanda/pile-10k\",\n",
    "        split=\"train\",\n",
    "        streaming=False,\n",
    "    )\n",
    "\n",
    "    print(\"Tokenizing dataset...\")\n",
    "    token_dataset = transformer_lens.utils.tokenize_and_concatenate(\n",
    "        dataset=dataset,\n",
    "        tokenizer=model.tokenizer,\n",
    "        streaming=True,\n",
    "        max_length=max_length,\n",
    "        add_bos_token=model.cfg.default_prepend_bos,\n",
    "    )\n",
    "\n",
    "    # token_dataset['tokens'].shape=torch.Size([136625, 128])\n",
    "    # print(f\"{token_dataset['tokens'].shape=}\")\n",
    "\n",
    "    # shuffle, and arbitrarily cap at around 10,000 / 130,000 (original caps at ~24k)\n",
    "    token_dataset = token_dataset.shuffle(42)\n",
    "    token_dataset = token_dataset.take(num_samples)\n",
    "\n",
    "    token_dataset_torch = torch.from_numpy(\n",
    "        np.stack([x[\"tokens\"] for x in token_dataset])\n",
    "    ).cuda()\n",
    "\n",
    "    # torch.Size([100, 1024])\n",
    "    print(token_dataset_torch.shape)\n",
    "\n",
    "    # Create a DataLoader for batching\n",
    "    #\n",
    "    # for batch in dataloader:\n",
    "    #     print(batch.shape) # torch.Size([32, 1024])\n",
    "    #     break\n",
    "    #\n",
    "    print(f\"Creating dataloader for dataset...\")\n",
    "    dataloader = torch.utils.data.DataLoader(\n",
    "        token_dataset_torch,\n",
    "        batch_size=batch_size,\n",
    "        shuffle=shuffle,\n",
    "    )\n",
    "\n",
    "    print(f\"Num batches: {token_dataset_torch.shape[0] / batch_size}\")\n",
    "\n",
    "    return dataloader"
   ]
  },
  {
   "cell_type": "markdown",
   "id": "3bdd288a",
   "metadata": {},
   "source": [
    "# Collect Activations\n",
    "\n",
    "Here we'll create hooks to store the MLP activations only"
   ]
  },
  {
   "cell_type": "code",
   "execution_count": 31,
   "id": "0f8c2af6",
   "metadata": {},
   "outputs": [],
   "source": []
  },
  {
   "cell_type": "code",
   "execution_count": 9,
   "id": "730a64a1",
   "metadata": {},
   "outputs": [],
   "source": [
    "# store the MLP activations\n",
    "mlp_inputs: list[Float[torch.Tensor, \"batch seq d_mlp_in\"]] = []\n",
    "mlp_outputs: list[Float[torch.Tensor, \"batch seq d_mlp_out\"]] = []\n",
    "\n",
    "\n",
    "# TODO(bschoen): Could make this general\n",
    "def store_mlp_inputs(\n",
    "    mlp_input: Float[torch.Tensor, \"... d_in\"],\n",
    "    hook: transformer_lens.hook_points.HookPoint,\n",
    ") -> None:\n",
    "\n",
    "    # Detach and move to CPU to save memory\n",
    "    mlp_inputs.append(mlp_input.detach().cpu())\n",
    "\n",
    "\n",
    "def store_mlp_output(\n",
    "    mlp_output: Float[torch.Tensor, \"... d_out\"],\n",
    "    hook: transformer_lens.hook_points.HookPoint,\n",
    ") -> None:\n",
    "\n",
    "    # Detach and move to CPU to save memory\n",
    "    mlp_outputs.append(mlp_output.detach().cpu())"
   ]
  },
  {
   "cell_type": "code",
   "execution_count": 10,
   "id": "9eede8d5",
   "metadata": {},
   "outputs": [
    {
     "name": "stdout",
     "output_type": "stream",
     "text": [
      "Loading dataset...\n",
      "Tokenizing dataset...\n",
      "torch.Size([10000, 128])\n",
      "Creating dataloader for dataset...\n",
      "Num batches: 156.25\n"
     ]
    },
    {
     "name": "stderr",
     "output_type": "stream",
     "text": [
      "Collecting MLP activations: 157it [00:24,  6.39it/s]\n"
     ]
    }
   ],
   "source": [
    "dataloader = create_tokenized_dataloader()\n",
    "\n",
    "# put model itself into eval mode so doesn't change\n",
    "model.eval()\n",
    "\n",
    "for batch_index, batch in tqdm.tqdm(\n",
    "    enumerate(dataloader),\n",
    "    desc=\"Collecting MLP activations\",\n",
    "):\n",
    "    # move batch to device\n",
    "    batch = batch.to(device)\n",
    "\n",
    "    # Get MLP input and output activations\n",
    "    model.run_with_hooks(\n",
    "        batch,\n",
    "        fwd_hooks=[\n",
    "            (training_cfg.hook_point, store_mlp_inputs),\n",
    "            (training_cfg.out_hook_point, store_mlp_output),\n",
    "        ],\n",
    "        return_type=None,\n",
    "    )"
   ]
  },
  {
   "cell_type": "code",
   "execution_count": 36,
   "id": "a085bed6",
   "metadata": {},
   "outputs": [],
   "source": [
    "# now we can unload gpu\n",
    "torch.cuda.empty_cache()"
   ]
  },
  {
   "cell_type": "code",
   "execution_count": 18,
   "id": "2aaf7138",
   "metadata": {},
   "outputs": [
    {
     "name": "stdout",
     "output_type": "stream",
     "text": [
      "len(mlp_inputs)=157, mlp_inputs[0].shape=torch.Size([64, 128, 768])\n",
      "len(mlp_outputs)=157, mlp_outputs[0].shape=torch.Size([64, 128, 768])\n"
     ]
    }
   ],
   "source": [
    "print(f\"{len(mlp_inputs)=}, {mlp_inputs[0].shape=}\")\n",
    "print(f\"{len(mlp_outputs)=}, {mlp_outputs[0].shape=}\")"
   ]
  },
  {
   "cell_type": "code",
   "execution_count": 19,
   "id": "0d7b96f6",
   "metadata": {},
   "outputs": [],
   "source": [
    "# Custom Dataset\n",
    "class MLPActivationsDataset(Dataset):\n",
    "    def __init__(\n",
    "        self,\n",
    "        mlp_inputs: list[Float[torch.Tensor, \"batch seq d_mlp_in\"]],\n",
    "        mlp_outputs: list[Float[torch.Tensor, \"batch seq d_mlp_out\"]],\n",
    "    ) -> None:\n",
    "        self.mlp_inputs = mlp_inputs\n",
    "        self.mlp_outputs = mlp_outputs\n",
    "        assert len(self.mlp_inputs) == len(\n",
    "            self.mlp_outputs\n",
    "        ), \"Inputs and outputs must be the same length.\"\n",
    "\n",
    "    def __len__(self) -> int:\n",
    "        return len(self.mlp_inputs)\n",
    "\n",
    "    def __getitem__(self, idx: int) -> tuple[\n",
    "        Float[torch.Tensor, \"batch seq d_mlp_in\"],\n",
    "        Float[torch.Tensor, \"batch seq d_mlp_out\"],\n",
    "    ]:\n",
    "        x = self.mlp_inputs[idx]  # Shape: [128, 128, 768]\n",
    "        y = self.mlp_outputs[idx]  # Shape: [128, 128, 768]\n",
    "        return x, y\n",
    "\n",
    "\n",
    "# Create Dataset and DataLoader\n",
    "activations_dataset = MLPActivationsDataset(mlp_inputs, mlp_outputs)\n",
    "activations_dataloader = DataLoader(\n",
    "    activations_dataset,\n",
    "    shuffle=True,\n",
    ")"
   ]
  },
  {
   "cell_type": "markdown",
   "id": "f6d0e565",
   "metadata": {},
   "source": [
    "# Train Transcoder"
   ]
  },
  {
   "cell_type": "code",
   "execution_count": 56,
   "id": "403769bb",
   "metadata": {},
   "outputs": [
    {
     "data": {
      "text/html": [
       "Finishing last run (ID:amsa793y) before initializing another..."
      ],
      "text/plain": [
       "<IPython.core.display.HTML object>"
      ]
     },
     "metadata": {},
     "output_type": "display_data"
    },
    {
     "data": {
      "text/html": [
       "<style>\n",
       "    table.wandb td:nth-child(1) { padding: 0 10px; text-align: left ; width: auto;} td:nth-child(2) {text-align: left ; width: 100%}\n",
       "    .wandb-row { display: flex; flex-direction: row; flex-wrap: wrap; justify-content: flex-start; width: 100% }\n",
       "    .wandb-col { display: flex; flex-direction: column; flex-basis: 100%; flex: 1; padding: 10px; }\n",
       "    </style>\n",
       "<div class=\"wandb-row\"><div class=\"wandb-col\"><h3>Run history:</h3><br/><table class=\"wandb\"><tr><td>L0</td><td>█▁▁▁▁▁▁▁▁▁▁▁▁▁▁▁▁▁▁▁</td></tr><tr><td>epoch</td><td>▁▁▁▁▁▁▁▁▁▁▁▁▁▁▁▁████</td></tr><tr><td>l1_loss</td><td>█▁▁▁▁▁▁▁▁▁▁▁▁▁▁▁▁▁▁▁</td></tr><tr><td>loss</td><td>█▁▁▁▁▁▁▁▁▁▁▁▁▁▁▁▁▁▁▁</td></tr><tr><td>mse_loss</td><td>█▅▃▂▂▁▁▁▁▁▁▁▁▁▁▁▁▁▁▁</td></tr><tr><td>sparsity/below_1e-5</td><td>▁███████████████████</td></tr><tr><td>sparsity/below_1e-6</td><td>▁███████████████████</td></tr><tr><td>sparsity/mean</td><td>█▁▁▁▁▁▁▁▁▁▁▁▁▁▁▁▁▁▁▁</td></tr></table><br/></div><div class=\"wandb-col\"><h3>Run summary:</h3><br/><table class=\"wandb\"><tr><td>L0</td><td>4.79834</td></tr><tr><td>epoch</td><td>2</td></tr><tr><td>l1_loss</td><td>3.23555</td></tr><tr><td>loss</td><td>8.71352</td></tr><tr><td>mse_loss</td><td>5.47796</td></tr><tr><td>sparsity/below_1e-5</td><td>0.99961</td></tr><tr><td>sparsity/below_1e-6</td><td>0.99961</td></tr><tr><td>sparsity/mean</td><td>2e-05</td></tr></table><br/></div></div>"
      ],
      "text/plain": [
       "<IPython.core.display.HTML object>"
      ]
     },
     "metadata": {},
     "output_type": "display_data"
    },
    {
     "data": {
      "text/html": [
       " View run <strong style=\"color:#cdcd00\">amber-lion-24</strong> at: <a href='https://wandb.ai/bronsonschoen-personal-use/transcoder_training_v2/runs/amsa793y' target=\"_blank\">https://wandb.ai/bronsonschoen-personal-use/transcoder_training_v2/runs/amsa793y</a><br/> View project at: <a href='https://wandb.ai/bronsonschoen-personal-use/transcoder_training_v2' target=\"_blank\">https://wandb.ai/bronsonschoen-personal-use/transcoder_training_v2</a><br/>Synced 5 W&B file(s), 0 media file(s), 2 artifact file(s) and 0 other file(s)"
      ],
      "text/plain": [
       "<IPython.core.display.HTML object>"
      ]
     },
     "metadata": {},
     "output_type": "display_data"
    },
    {
     "data": {
      "text/html": [
       "Find logs at: <code>./wandb/run-20240915_193637-amsa793y/logs</code>"
      ],
      "text/plain": [
       "<IPython.core.display.HTML object>"
      ]
     },
     "metadata": {},
     "output_type": "display_data"
    },
    {
     "data": {
      "text/html": [
       "Successfully finished last run (ID:amsa793y). Initializing new run:<br/>"
      ],
      "text/plain": [
       "<IPython.core.display.HTML object>"
      ]
     },
     "metadata": {},
     "output_type": "display_data"
    },
    {
     "data": {
      "text/html": [
       "Tracking run with wandb version 0.18.0"
      ],
      "text/plain": [
       "<IPython.core.display.HTML object>"
      ]
     },
     "metadata": {},
     "output_type": "display_data"
    },
    {
     "data": {
      "text/html": [
       "Run data is saved locally in <code>/home/ubuntu/minTranscoder/wandb/run-20240915_193944-azhg722x</code>"
      ],
      "text/plain": [
       "<IPython.core.display.HTML object>"
      ]
     },
     "metadata": {},
     "output_type": "display_data"
    },
    {
     "data": {
      "text/html": [
       "Syncing run <strong><a href='https://wandb.ai/bronsonschoen-personal-use/transcoder_training_v2/runs/azhg722x' target=\"_blank\">misunderstood-cosmos-25</a></strong> to <a href='https://wandb.ai/bronsonschoen-personal-use/transcoder_training_v2' target=\"_blank\">Weights & Biases</a> (<a href='https://wandb.me/run' target=\"_blank\">docs</a>)<br/>"
      ],
      "text/plain": [
       "<IPython.core.display.HTML object>"
      ]
     },
     "metadata": {},
     "output_type": "display_data"
    },
    {
     "data": {
      "text/html": [
       " View project at <a href='https://wandb.ai/bronsonschoen-personal-use/transcoder_training_v2' target=\"_blank\">https://wandb.ai/bronsonschoen-personal-use/transcoder_training_v2</a>"
      ],
      "text/plain": [
       "<IPython.core.display.HTML object>"
      ]
     },
     "metadata": {},
     "output_type": "display_data"
    },
    {
     "data": {
      "text/html": [
       " View run at <a href='https://wandb.ai/bronsonschoen-personal-use/transcoder_training_v2/runs/azhg722x' target=\"_blank\">https://wandb.ai/bronsonschoen-personal-use/transcoder_training_v2/runs/azhg722x</a>"
      ],
      "text/plain": [
       "<IPython.core.display.HTML object>"
      ]
     },
     "metadata": {},
     "output_type": "display_data"
    },
    {
     "name": "stderr",
     "output_type": "stream",
     "text": [
      "Epoch 1/5: 1it [00:00,  1.03it/s]"
     ]
    },
    {
     "name": "stdout",
     "output_type": "stream",
     "text": [
      "Epoch 1/5, Batch 0/157, Loss: 404.219513, MSE Loss: 19.778481, L1 Loss: 384.441040, L0: 98428.046875\n"
     ]
    },
    {
     "name": "stderr",
     "output_type": "stream",
     "text": [
      "Epoch 1/5: 11it [00:10,  1.18s/it]"
     ]
    },
    {
     "name": "stdout",
     "output_type": "stream",
     "text": [
      "Epoch 1/5, Batch 10/157, Loss: 19.403349, MSE Loss: 17.370590, L1 Loss: 2.032759, L0: 9.591675\n"
     ]
    },
    {
     "name": "stderr",
     "output_type": "stream",
     "text": [
      "Epoch 1/5: 21it [00:19,  1.18s/it]"
     ]
    },
    {
     "name": "stdout",
     "output_type": "stream",
     "text": [
      "Epoch 1/5, Batch 20/157, Loss: 11.988247, MSE Loss: 9.816299, L1 Loss: 2.171947, L0: 9.237549\n"
     ]
    },
    {
     "name": "stderr",
     "output_type": "stream",
     "text": [
      "Epoch 1/5: 31it [00:28,  1.18s/it]"
     ]
    },
    {
     "name": "stdout",
     "output_type": "stream",
     "text": [
      "Epoch 1/5, Batch 30/157, Loss: 10.846800, MSE Loss: 8.413660, L1 Loss: 2.433140, L0: 7.703857\n"
     ]
    },
    {
     "name": "stderr",
     "output_type": "stream",
     "text": [
      "Epoch 1/5: 41it [00:37,  1.18s/it]"
     ]
    },
    {
     "name": "stdout",
     "output_type": "stream",
     "text": [
      "Epoch 1/5, Batch 40/157, Loss: 9.840872, MSE Loss: 7.427976, L1 Loss: 2.412896, L0: 8.007080\n"
     ]
    },
    {
     "name": "stderr",
     "output_type": "stream",
     "text": [
      "Epoch 1/5: 51it [00:46,  1.18s/it]"
     ]
    },
    {
     "name": "stdout",
     "output_type": "stream",
     "text": [
      "Epoch 1/5, Batch 50/157, Loss: 9.332788, MSE Loss: 6.544838, L1 Loss: 2.787951, L0: 8.642700\n"
     ]
    },
    {
     "name": "stderr",
     "output_type": "stream",
     "text": [
      "Epoch 1/5: 61it [00:55,  1.18s/it]"
     ]
    },
    {
     "name": "stdout",
     "output_type": "stream",
     "text": [
      "Epoch 1/5, Batch 60/157, Loss: 9.389864, MSE Loss: 6.462059, L1 Loss: 2.927805, L0: 8.523682\n"
     ]
    },
    {
     "name": "stderr",
     "output_type": "stream",
     "text": [
      "Epoch 1/5: 71it [01:04,  1.18s/it]"
     ]
    },
    {
     "name": "stdout",
     "output_type": "stream",
     "text": [
      "Epoch 1/5, Batch 70/157, Loss: 9.291327, MSE Loss: 6.551067, L1 Loss: 2.740260, L0: 8.292114\n"
     ]
    },
    {
     "name": "stderr",
     "output_type": "stream",
     "text": [
      "Epoch 1/5: 81it [01:14,  1.18s/it]"
     ]
    },
    {
     "name": "stdout",
     "output_type": "stream",
     "text": [
      "Epoch 1/5, Batch 80/157, Loss: 9.320167, MSE Loss: 6.581285, L1 Loss: 2.738881, L0: 7.789429\n"
     ]
    },
    {
     "name": "stderr",
     "output_type": "stream",
     "text": [
      "Epoch 1/5: 91it [01:22,  1.16s/it]"
     ]
    },
    {
     "name": "stdout",
     "output_type": "stream",
     "text": [
      "Epoch 1/5, Batch 90/157, Loss: 9.303787, MSE Loss: 6.208385, L1 Loss: 3.095402, L0: 7.981689\n"
     ]
    },
    {
     "name": "stderr",
     "output_type": "stream",
     "text": [
      "Epoch 1/5: 101it [01:31,  1.18s/it]"
     ]
    },
    {
     "name": "stdout",
     "output_type": "stream",
     "text": [
      "Epoch 1/5, Batch 100/157, Loss: 8.857876, MSE Loss: 6.032262, L1 Loss: 2.825614, L0: 7.219727\n"
     ]
    },
    {
     "name": "stderr",
     "output_type": "stream",
     "text": [
      "Epoch 1/5: 111it [01:40,  1.18s/it]"
     ]
    },
    {
     "name": "stdout",
     "output_type": "stream",
     "text": [
      "Epoch 1/5, Batch 110/157, Loss: 8.843466, MSE Loss: 6.112745, L1 Loss: 2.730721, L0: 7.111328\n"
     ]
    },
    {
     "name": "stderr",
     "output_type": "stream",
     "text": [
      "Epoch 1/5: 121it [01:49,  1.18s/it]"
     ]
    },
    {
     "name": "stdout",
     "output_type": "stream",
     "text": [
      "Epoch 1/5, Batch 120/157, Loss: 8.688656, MSE Loss: 5.961963, L1 Loss: 2.726693, L0: 6.742310\n"
     ]
    },
    {
     "name": "stderr",
     "output_type": "stream",
     "text": [
      "Epoch 1/5: 131it [01:59,  1.18s/it]"
     ]
    },
    {
     "name": "stdout",
     "output_type": "stream",
     "text": [
      "Epoch 1/5, Batch 130/157, Loss: 8.949719, MSE Loss: 5.865077, L1 Loss: 3.084642, L0: 7.228516\n"
     ]
    },
    {
     "name": "stderr",
     "output_type": "stream",
     "text": [
      "Epoch 1/5: 141it [02:08,  1.18s/it]"
     ]
    },
    {
     "name": "stdout",
     "output_type": "stream",
     "text": [
      "Epoch 1/5, Batch 140/157, Loss: 8.797014, MSE Loss: 5.695395, L1 Loss: 3.101619, L0: 6.518188\n"
     ]
    },
    {
     "name": "stderr",
     "output_type": "stream",
     "text": [
      "Epoch 1/5: 151it [02:17,  1.18s/it]"
     ]
    },
    {
     "name": "stdout",
     "output_type": "stream",
     "text": [
      "Epoch 1/5, Batch 150/157, Loss: 7.990798, MSE Loss: 5.480648, L1 Loss: 2.510150, L0: 5.673950\n"
     ]
    },
    {
     "name": "stderr",
     "output_type": "stream",
     "text": [
      "Epoch 1/5: 157it [02:21,  1.11it/s]\n",
      "Epoch 2/5: 1it [00:01,  1.85s/it]"
     ]
    },
    {
     "name": "stdout",
     "output_type": "stream",
     "text": [
      "Epoch 2/5, Batch 0/157, Loss: 7.921321, MSE Loss: 5.372721, L1 Loss: 2.548601, L0: 5.592529\n"
     ]
    },
    {
     "name": "stderr",
     "output_type": "stream",
     "text": [
      "Epoch 2/5: 11it [00:10,  1.19s/it]"
     ]
    },
    {
     "name": "stdout",
     "output_type": "stream",
     "text": [
      "Epoch 2/5, Batch 10/157, Loss: 8.753508, MSE Loss: 5.641742, L1 Loss: 3.111765, L0: 6.096069\n"
     ]
    },
    {
     "name": "stderr",
     "output_type": "stream",
     "text": [
      "Epoch 2/5: 21it [00:20,  1.18s/it]"
     ]
    },
    {
     "name": "stdout",
     "output_type": "stream",
     "text": [
      "Epoch 2/5, Batch 20/157, Loss: 8.047362, MSE Loss: 5.590727, L1 Loss: 2.456635, L0: 4.909790\n"
     ]
    },
    {
     "name": "stderr",
     "output_type": "stream",
     "text": [
      "Epoch 2/5: 31it [00:29,  1.18s/it]"
     ]
    },
    {
     "name": "stdout",
     "output_type": "stream",
     "text": [
      "Epoch 2/5, Batch 30/157, Loss: 8.345394, MSE Loss: 5.490322, L1 Loss: 2.855072, L0: 5.307739\n"
     ]
    },
    {
     "name": "stderr",
     "output_type": "stream",
     "text": [
      "Epoch 2/5: 41it [00:38,  1.18s/it]"
     ]
    },
    {
     "name": "stdout",
     "output_type": "stream",
     "text": [
      "Epoch 2/5, Batch 40/157, Loss: 8.823105, MSE Loss: 5.303054, L1 Loss: 3.520051, L0: 5.989868\n"
     ]
    },
    {
     "name": "stderr",
     "output_type": "stream",
     "text": [
      "Epoch 2/5: 51it [00:47,  1.18s/it]"
     ]
    },
    {
     "name": "stdout",
     "output_type": "stream",
     "text": [
      "Epoch 2/5, Batch 50/157, Loss: 8.654732, MSE Loss: 5.391063, L1 Loss: 3.263669, L0: 5.457153\n"
     ]
    },
    {
     "name": "stderr",
     "output_type": "stream",
     "text": [
      "Epoch 2/5: 61it [00:56,  1.18s/it]"
     ]
    },
    {
     "name": "stdout",
     "output_type": "stream",
     "text": [
      "Epoch 2/5, Batch 60/157, Loss: 8.426525, MSE Loss: 5.524925, L1 Loss: 2.901600, L0: 4.868042\n"
     ]
    },
    {
     "name": "stderr",
     "output_type": "stream",
     "text": [
      "Epoch 2/5: 71it [01:05,  1.18s/it]"
     ]
    },
    {
     "name": "stdout",
     "output_type": "stream",
     "text": [
      "Epoch 2/5, Batch 70/157, Loss: 8.419341, MSE Loss: 5.471136, L1 Loss: 2.948205, L0: 4.952759\n"
     ]
    },
    {
     "name": "stderr",
     "output_type": "stream",
     "text": [
      "Epoch 2/5: 81it [01:14,  1.18s/it]"
     ]
    },
    {
     "name": "stdout",
     "output_type": "stream",
     "text": [
      "Epoch 2/5, Batch 80/157, Loss: 8.130560, MSE Loss: 5.378008, L1 Loss: 2.752552, L0: 4.435181\n"
     ]
    },
    {
     "name": "stderr",
     "output_type": "stream",
     "text": [
      "Epoch 2/5: 91it [01:24,  1.18s/it]"
     ]
    },
    {
     "name": "stdout",
     "output_type": "stream",
     "text": [
      "Epoch 2/5, Batch 90/157, Loss: 8.345928, MSE Loss: 5.291148, L1 Loss: 3.054780, L0: 4.516602\n"
     ]
    },
    {
     "name": "stderr",
     "output_type": "stream",
     "text": [
      "Epoch 2/5: 101it [01:32,  1.13s/it]"
     ]
    },
    {
     "name": "stdout",
     "output_type": "stream",
     "text": [
      "Epoch 2/5, Batch 100/157, Loss: 7.873197, MSE Loss: 5.103437, L1 Loss: 2.769759, L0: 4.216797\n"
     ]
    },
    {
     "name": "stderr",
     "output_type": "stream",
     "text": [
      "Epoch 2/5: 111it [01:41,  1.18s/it]"
     ]
    },
    {
     "name": "stdout",
     "output_type": "stream",
     "text": [
      "Epoch 2/5, Batch 110/157, Loss: 7.873486, MSE Loss: 5.218347, L1 Loss: 2.655139, L0: 3.859863\n"
     ]
    },
    {
     "name": "stderr",
     "output_type": "stream",
     "text": [
      "Epoch 2/5: 121it [01:50,  1.18s/it]"
     ]
    },
    {
     "name": "stdout",
     "output_type": "stream",
     "text": [
      "Epoch 2/5, Batch 120/157, Loss: 8.056261, MSE Loss: 5.071133, L1 Loss: 2.985128, L0: 4.196777\n"
     ]
    },
    {
     "name": "stderr",
     "output_type": "stream",
     "text": [
      "Epoch 2/5: 131it [01:59,  1.18s/it]"
     ]
    },
    {
     "name": "stdout",
     "output_type": "stream",
     "text": [
      "Epoch 2/5, Batch 130/157, Loss: 8.193493, MSE Loss: 5.409389, L1 Loss: 2.784103, L0: 3.988647\n"
     ]
    },
    {
     "name": "stderr",
     "output_type": "stream",
     "text": [
      "Epoch 2/5: 141it [02:09,  1.18s/it]"
     ]
    },
    {
     "name": "stdout",
     "output_type": "stream",
     "text": [
      "Epoch 2/5, Batch 140/157, Loss: 8.194572, MSE Loss: 5.361913, L1 Loss: 2.832660, L0: 3.869751\n"
     ]
    },
    {
     "name": "stderr",
     "output_type": "stream",
     "text": [
      "Epoch 2/5: 151it [02:18,  1.18s/it]"
     ]
    },
    {
     "name": "stdout",
     "output_type": "stream",
     "text": [
      "Epoch 2/5, Batch 150/157, Loss: 8.399955, MSE Loss: 5.266769, L1 Loss: 3.133185, L0: 3.972534\n"
     ]
    },
    {
     "name": "stderr",
     "output_type": "stream",
     "text": [
      "Epoch 2/5: 157it [02:22,  1.10it/s]\n",
      "Epoch 3/5: 1it [00:01,  1.85s/it]"
     ]
    },
    {
     "name": "stdout",
     "output_type": "stream",
     "text": [
      "Epoch 3/5, Batch 0/157, Loss: 8.437147, MSE Loss: 5.339080, L1 Loss: 3.098068, L0: 4.031616\n"
     ]
    },
    {
     "name": "stderr",
     "output_type": "stream",
     "text": [
      "Epoch 3/5: 11it [00:10,  1.19s/it]"
     ]
    },
    {
     "name": "stdout",
     "output_type": "stream",
     "text": [
      "Epoch 3/5, Batch 10/157, Loss: 8.331019, MSE Loss: 5.113410, L1 Loss: 3.217609, L0: 4.087402\n"
     ]
    },
    {
     "name": "stderr",
     "output_type": "stream",
     "text": [
      "Epoch 3/5: 21it [00:20,  1.18s/it]"
     ]
    },
    {
     "name": "stdout",
     "output_type": "stream",
     "text": [
      "Epoch 3/5, Batch 20/157, Loss: 7.699738, MSE Loss: 4.980385, L1 Loss: 2.719352, L0: 3.611450\n"
     ]
    },
    {
     "name": "stderr",
     "output_type": "stream",
     "text": [
      "Epoch 3/5: 31it [00:29,  1.18s/it]"
     ]
    },
    {
     "name": "stdout",
     "output_type": "stream",
     "text": [
      "Epoch 3/5, Batch 30/157, Loss: 7.861844, MSE Loss: 5.155126, L1 Loss: 2.706718, L0: 3.566406\n"
     ]
    },
    {
     "name": "stderr",
     "output_type": "stream",
     "text": [
      "Epoch 3/5: 41it [00:38,  1.18s/it]"
     ]
    },
    {
     "name": "stdout",
     "output_type": "stream",
     "text": [
      "Epoch 3/5, Batch 40/157, Loss: 7.913601, MSE Loss: 5.126004, L1 Loss: 2.787597, L0: 3.475830\n"
     ]
    },
    {
     "name": "stderr",
     "output_type": "stream",
     "text": [
      "Epoch 3/5: 51it [00:46,  1.11s/it]"
     ]
    },
    {
     "name": "stdout",
     "output_type": "stream",
     "text": [
      "Epoch 3/5, Batch 50/157, Loss: 7.430055, MSE Loss: 5.055471, L1 Loss: 2.374583, L0: 3.040405\n"
     ]
    },
    {
     "name": "stderr",
     "output_type": "stream",
     "text": [
      "Epoch 3/5: 61it [00:55,  1.18s/it]"
     ]
    },
    {
     "name": "stdout",
     "output_type": "stream",
     "text": [
      "Epoch 3/5, Batch 60/157, Loss: 7.285502, MSE Loss: 4.906403, L1 Loss: 2.379100, L0: 3.151367\n"
     ]
    },
    {
     "name": "stderr",
     "output_type": "stream",
     "text": [
      "Epoch 3/5: 71it [01:05,  1.18s/it]"
     ]
    },
    {
     "name": "stdout",
     "output_type": "stream",
     "text": [
      "Epoch 3/5, Batch 70/157, Loss: 7.703269, MSE Loss: 5.074435, L1 Loss: 2.628834, L0: 3.237427\n"
     ]
    },
    {
     "name": "stderr",
     "output_type": "stream",
     "text": [
      "Epoch 3/5: 81it [01:14,  1.18s/it]"
     ]
    },
    {
     "name": "stdout",
     "output_type": "stream",
     "text": [
      "Epoch 3/5, Batch 80/157, Loss: 7.859265, MSE Loss: 5.059564, L1 Loss: 2.799702, L0: 3.317139\n"
     ]
    },
    {
     "name": "stderr",
     "output_type": "stream",
     "text": [
      "Epoch 3/5: 91it [01:23,  1.18s/it]"
     ]
    },
    {
     "name": "stdout",
     "output_type": "stream",
     "text": [
      "Epoch 3/5, Batch 90/157, Loss: 7.664994, MSE Loss: 5.115911, L1 Loss: 2.549083, L0: 2.972656\n"
     ]
    },
    {
     "name": "stderr",
     "output_type": "stream",
     "text": [
      "Epoch 3/5: 101it [01:32,  1.18s/it]"
     ]
    },
    {
     "name": "stdout",
     "output_type": "stream",
     "text": [
      "Epoch 3/5, Batch 100/157, Loss: 8.084084, MSE Loss: 5.153798, L1 Loss: 2.930286, L0: 3.278687\n"
     ]
    },
    {
     "name": "stderr",
     "output_type": "stream",
     "text": [
      "Epoch 3/5: 111it [01:41,  1.18s/it]"
     ]
    },
    {
     "name": "stdout",
     "output_type": "stream",
     "text": [
      "Epoch 3/5, Batch 110/157, Loss: 7.923886, MSE Loss: 5.297754, L1 Loss: 2.626133, L0: 2.868896\n"
     ]
    },
    {
     "name": "stderr",
     "output_type": "stream",
     "text": [
      "Epoch 3/5: 121it [01:50,  1.18s/it]"
     ]
    },
    {
     "name": "stdout",
     "output_type": "stream",
     "text": [
      "Epoch 3/5, Batch 120/157, Loss: 8.145006, MSE Loss: 5.205588, L1 Loss: 2.939418, L0: 3.179077\n"
     ]
    },
    {
     "name": "stderr",
     "output_type": "stream",
     "text": [
      "Epoch 3/5: 131it [01:59,  1.18s/it]"
     ]
    },
    {
     "name": "stdout",
     "output_type": "stream",
     "text": [
      "Epoch 3/5, Batch 130/157, Loss: 7.839686, MSE Loss: 5.236441, L1 Loss: 2.603245, L0: 2.954346\n"
     ]
    },
    {
     "name": "stderr",
     "output_type": "stream",
     "text": [
      "Epoch 3/5: 141it [02:09,  1.18s/it]"
     ]
    },
    {
     "name": "stdout",
     "output_type": "stream",
     "text": [
      "Epoch 3/5, Batch 140/157, Loss: 7.848379, MSE Loss: 5.348078, L1 Loss: 2.500300, L0: 2.798096\n"
     ]
    },
    {
     "name": "stderr",
     "output_type": "stream",
     "text": [
      "Epoch 3/5: 151it [02:18,  1.18s/it]"
     ]
    },
    {
     "name": "stdout",
     "output_type": "stream",
     "text": [
      "Epoch 3/5, Batch 150/157, Loss: 7.887331, MSE Loss: 5.167045, L1 Loss: 2.720287, L0: 3.096558\n"
     ]
    },
    {
     "name": "stderr",
     "output_type": "stream",
     "text": [
      "Epoch 3/5: 157it [02:22,  1.10it/s]\n",
      "Epoch 4/5: 1it [00:01,  1.85s/it]"
     ]
    },
    {
     "name": "stdout",
     "output_type": "stream",
     "text": [
      "Epoch 4/5, Batch 0/157, Loss: 7.774190, MSE Loss: 5.092923, L1 Loss: 2.681267, L0: 2.888062\n"
     ]
    },
    {
     "name": "stderr",
     "output_type": "stream",
     "text": [
      "Epoch 4/5: 11it [00:10,  1.12s/it]"
     ]
    },
    {
     "name": "stdout",
     "output_type": "stream",
     "text": [
      "Epoch 4/5, Batch 10/157, Loss: 7.931461, MSE Loss: 5.175066, L1 Loss: 2.756396, L0: 3.054077\n"
     ]
    },
    {
     "name": "stderr",
     "output_type": "stream",
     "text": [
      "Epoch 4/5: 21it [00:19,  1.18s/it]"
     ]
    },
    {
     "name": "stdout",
     "output_type": "stream",
     "text": [
      "Epoch 4/5, Batch 20/157, Loss: 7.623552, MSE Loss: 5.259244, L1 Loss: 2.364307, L0: 2.617554\n"
     ]
    },
    {
     "name": "stderr",
     "output_type": "stream",
     "text": [
      "Epoch 4/5: 31it [00:28,  1.18s/it]"
     ]
    },
    {
     "name": "stdout",
     "output_type": "stream",
     "text": [
      "Epoch 4/5, Batch 30/157, Loss: 7.590412, MSE Loss: 5.211813, L1 Loss: 2.378599, L0: 2.580078\n"
     ]
    },
    {
     "name": "stderr",
     "output_type": "stream",
     "text": [
      "Epoch 4/5: 41it [00:37,  1.18s/it]"
     ]
    },
    {
     "name": "stdout",
     "output_type": "stream",
     "text": [
      "Epoch 4/5, Batch 40/157, Loss: 7.554679, MSE Loss: 4.997985, L1 Loss: 2.556694, L0: 2.862305\n"
     ]
    },
    {
     "name": "stderr",
     "output_type": "stream",
     "text": [
      "Epoch 4/5: 51it [00:46,  1.18s/it]"
     ]
    },
    {
     "name": "stdout",
     "output_type": "stream",
     "text": [
      "Epoch 4/5, Batch 50/157, Loss: 7.810466, MSE Loss: 5.081104, L1 Loss: 2.729362, L0: 2.794922\n"
     ]
    },
    {
     "name": "stderr",
     "output_type": "stream",
     "text": [
      "Epoch 4/5: 61it [00:55,  1.18s/it]"
     ]
    },
    {
     "name": "stdout",
     "output_type": "stream",
     "text": [
      "Epoch 4/5, Batch 60/157, Loss: 7.657998, MSE Loss: 5.107058, L1 Loss: 2.550940, L0: 2.768188\n"
     ]
    },
    {
     "name": "stderr",
     "output_type": "stream",
     "text": [
      "Epoch 4/5: 71it [01:05,  1.18s/it]"
     ]
    },
    {
     "name": "stdout",
     "output_type": "stream",
     "text": [
      "Epoch 4/5, Batch 70/157, Loss: 7.613855, MSE Loss: 5.011988, L1 Loss: 2.601867, L0: 2.799805\n"
     ]
    },
    {
     "name": "stderr",
     "output_type": "stream",
     "text": [
      "Epoch 4/5: 81it [01:14,  1.18s/it]"
     ]
    },
    {
     "name": "stdout",
     "output_type": "stream",
     "text": [
      "Epoch 4/5, Batch 80/157, Loss: 7.443837, MSE Loss: 5.025614, L1 Loss: 2.418223, L0: 2.521362\n"
     ]
    },
    {
     "name": "stderr",
     "output_type": "stream",
     "text": [
      "Epoch 4/5: 91it [01:23,  1.18s/it]"
     ]
    },
    {
     "name": "stdout",
     "output_type": "stream",
     "text": [
      "Epoch 4/5, Batch 90/157, Loss: 7.692280, MSE Loss: 5.191890, L1 Loss: 2.500390, L0: 2.645020\n"
     ]
    },
    {
     "name": "stderr",
     "output_type": "stream",
     "text": [
      "Epoch 4/5: 101it [01:32,  1.18s/it]"
     ]
    },
    {
     "name": "stdout",
     "output_type": "stream",
     "text": [
      "Epoch 4/5, Batch 100/157, Loss: 7.909471, MSE Loss: 5.291245, L1 Loss: 2.618225, L0: 2.526001\n"
     ]
    },
    {
     "name": "stderr",
     "output_type": "stream",
     "text": [
      "Epoch 4/5: 111it [01:41,  1.18s/it]"
     ]
    },
    {
     "name": "stdout",
     "output_type": "stream",
     "text": [
      "Epoch 4/5, Batch 110/157, Loss: 7.645508, MSE Loss: 5.144480, L1 Loss: 2.501028, L0: 2.641846\n"
     ]
    },
    {
     "name": "stderr",
     "output_type": "stream",
     "text": [
      "Epoch 4/5: 121it [01:50,  1.18s/it]"
     ]
    },
    {
     "name": "stdout",
     "output_type": "stream",
     "text": [
      "Epoch 4/5, Batch 120/157, Loss: 7.838455, MSE Loss: 5.162842, L1 Loss: 2.675613, L0: 2.635254\n"
     ]
    },
    {
     "name": "stderr",
     "output_type": "stream",
     "text": [
      "Epoch 4/5: 131it [01:59,  1.18s/it]"
     ]
    },
    {
     "name": "stdout",
     "output_type": "stream",
     "text": [
      "Epoch 4/5, Batch 130/157, Loss: 8.001549, MSE Loss: 4.925291, L1 Loss: 3.076258, L0: 2.920654\n"
     ]
    },
    {
     "name": "stderr",
     "output_type": "stream",
     "text": [
      "Epoch 4/5: 141it [02:09,  1.18s/it]"
     ]
    },
    {
     "name": "stdout",
     "output_type": "stream",
     "text": [
      "Epoch 4/5, Batch 140/157, Loss: 7.882159, MSE Loss: 4.981211, L1 Loss: 2.900949, L0: 2.764893\n"
     ]
    },
    {
     "name": "stderr",
     "output_type": "stream",
     "text": [
      "Epoch 4/5: 151it [02:18,  1.18s/it]"
     ]
    },
    {
     "name": "stdout",
     "output_type": "stream",
     "text": [
      "Epoch 4/5, Batch 150/157, Loss: 7.693530, MSE Loss: 5.259905, L1 Loss: 2.433625, L0: 2.306152\n"
     ]
    },
    {
     "name": "stderr",
     "output_type": "stream",
     "text": [
      "Epoch 4/5: 157it [02:22,  1.10it/s]\n",
      "Epoch 5/5: 1it [00:01,  1.85s/it]"
     ]
    },
    {
     "name": "stdout",
     "output_type": "stream",
     "text": [
      "Epoch 5/5, Batch 0/157, Loss: 7.717847, MSE Loss: 5.290228, L1 Loss: 2.427619, L0: 2.313232\n"
     ]
    },
    {
     "name": "stderr",
     "output_type": "stream",
     "text": [
      "Epoch 5/5: 11it [00:10,  1.19s/it]"
     ]
    },
    {
     "name": "stdout",
     "output_type": "stream",
     "text": [
      "Epoch 5/5, Batch 10/157, Loss: 7.492080, MSE Loss: 5.057593, L1 Loss: 2.434487, L0: 2.312744\n"
     ]
    },
    {
     "name": "stderr",
     "output_type": "stream",
     "text": [
      "Epoch 5/5: 21it [00:20,  1.18s/it]"
     ]
    },
    {
     "name": "stdout",
     "output_type": "stream",
     "text": [
      "Epoch 5/5, Batch 20/157, Loss: 7.350632, MSE Loss: 4.944596, L1 Loss: 2.406036, L0: 2.353027\n"
     ]
    },
    {
     "name": "stderr",
     "output_type": "stream",
     "text": [
      "Epoch 5/5: 31it [00:29,  1.18s/it]"
     ]
    },
    {
     "name": "stdout",
     "output_type": "stream",
     "text": [
      "Epoch 5/5, Batch 30/157, Loss: 7.439704, MSE Loss: 5.161452, L1 Loss: 2.278252, L0: 2.207764\n"
     ]
    },
    {
     "name": "stderr",
     "output_type": "stream",
     "text": [
      "Epoch 5/5: 41it [00:38,  1.18s/it]"
     ]
    },
    {
     "name": "stdout",
     "output_type": "stream",
     "text": [
      "Epoch 5/5, Batch 40/157, Loss: 7.747474, MSE Loss: 5.099888, L1 Loss: 2.647586, L0: 2.484863\n"
     ]
    },
    {
     "name": "stderr",
     "output_type": "stream",
     "text": [
      "Epoch 5/5: 51it [00:47,  1.18s/it]"
     ]
    },
    {
     "name": "stdout",
     "output_type": "stream",
     "text": [
      "Epoch 5/5, Batch 50/157, Loss: 7.302414, MSE Loss: 4.867785, L1 Loss: 2.434629, L0: 2.328857\n"
     ]
    },
    {
     "name": "stderr",
     "output_type": "stream",
     "text": [
      "Epoch 5/5: 61it [00:56,  1.18s/it]"
     ]
    },
    {
     "name": "stdout",
     "output_type": "stream",
     "text": [
      "Epoch 5/5, Batch 60/157, Loss: 7.851366, MSE Loss: 5.015822, L1 Loss: 2.835543, L0: 2.492676\n"
     ]
    },
    {
     "name": "stderr",
     "output_type": "stream",
     "text": [
      "Epoch 5/5: 71it [01:05,  1.18s/it]"
     ]
    },
    {
     "name": "stdout",
     "output_type": "stream",
     "text": [
      "Epoch 5/5, Batch 70/157, Loss: 7.517426, MSE Loss: 5.220969, L1 Loss: 2.296457, L0: 2.083740\n"
     ]
    },
    {
     "name": "stderr",
     "output_type": "stream",
     "text": [
      "Epoch 5/5: 81it [01:14,  1.18s/it]"
     ]
    },
    {
     "name": "stdout",
     "output_type": "stream",
     "text": [
      "Epoch 5/5, Batch 80/157, Loss: 7.473498, MSE Loss: 4.934245, L1 Loss: 2.539254, L0: 2.206299\n"
     ]
    },
    {
     "name": "stderr",
     "output_type": "stream",
     "text": [
      "Epoch 5/5: 91it [01:24,  1.18s/it]"
     ]
    },
    {
     "name": "stdout",
     "output_type": "stream",
     "text": [
      "Epoch 5/5, Batch 90/157, Loss: 7.751582, MSE Loss: 5.208167, L1 Loss: 2.543415, L0: 2.228638\n"
     ]
    },
    {
     "name": "stderr",
     "output_type": "stream",
     "text": [
      "Epoch 5/5: 101it [01:33,  1.18s/it]"
     ]
    },
    {
     "name": "stdout",
     "output_type": "stream",
     "text": [
      "Epoch 5/5, Batch 100/157, Loss: 7.298778, MSE Loss: 4.992640, L1 Loss: 2.306138, L0: 2.102905\n"
     ]
    },
    {
     "name": "stderr",
     "output_type": "stream",
     "text": [
      "Epoch 5/5: 111it [01:42,  1.18s/it]"
     ]
    },
    {
     "name": "stdout",
     "output_type": "stream",
     "text": [
      "Epoch 5/5, Batch 110/157, Loss: 7.281939, MSE Loss: 5.002841, L1 Loss: 2.279098, L0: 2.090210\n"
     ]
    },
    {
     "name": "stderr",
     "output_type": "stream",
     "text": [
      "Epoch 5/5: 121it [01:51,  1.18s/it]"
     ]
    },
    {
     "name": "stdout",
     "output_type": "stream",
     "text": [
      "Epoch 5/5, Batch 120/157, Loss: 7.757072, MSE Loss: 5.203391, L1 Loss: 2.553681, L0: 2.275635\n"
     ]
    },
    {
     "name": "stderr",
     "output_type": "stream",
     "text": [
      "Epoch 5/5: 131it [02:00,  1.18s/it]"
     ]
    },
    {
     "name": "stdout",
     "output_type": "stream",
     "text": [
      "Epoch 5/5, Batch 130/157, Loss: 7.259439, MSE Loss: 5.214679, L1 Loss: 2.044759, L0: 1.895874\n"
     ]
    },
    {
     "name": "stderr",
     "output_type": "stream",
     "text": [
      "Epoch 5/5: 141it [02:09,  1.18s/it]"
     ]
    },
    {
     "name": "stdout",
     "output_type": "stream",
     "text": [
      "Epoch 5/5, Batch 140/157, Loss: 7.510085, MSE Loss: 5.066212, L1 Loss: 2.443873, L0: 2.143311\n"
     ]
    },
    {
     "name": "stderr",
     "output_type": "stream",
     "text": [
      "Epoch 5/5: 151it [02:18,  1.05s/it]"
     ]
    },
    {
     "name": "stdout",
     "output_type": "stream",
     "text": [
      "Epoch 5/5, Batch 150/157, Loss: 7.178076, MSE Loss: 4.887732, L1 Loss: 2.290345, L0: 2.109375\n"
     ]
    },
    {
     "name": "stderr",
     "output_type": "stream",
     "text": [
      "Epoch 5/5: 157it [02:22,  1.10it/s]\n"
     ]
    },
    {
     "name": "stdout",
     "output_type": "stream",
     "text": [
      "Training completed!\n"
     ]
    },
    {
     "data": {
      "text/html": [
       "<style>\n",
       "    table.wandb td:nth-child(1) { padding: 0 10px; text-align: left ; width: auto;} td:nth-child(2) {text-align: left ; width: 100%}\n",
       "    .wandb-row { display: flex; flex-direction: row; flex-wrap: wrap; justify-content: flex-start; width: 100% }\n",
       "    .wandb-col { display: flex; flex-direction: column; flex-basis: 100%; flex: 1; padding: 10px; }\n",
       "    </style>\n",
       "<div class=\"wandb-row\"><div class=\"wandb-col\"><h3>Run history:</h3><br/><table class=\"wandb\"><tr><td>L0</td><td>██▆▇▇▆▆▅▄▄▄▅▄▃▃▃▃▃▃▂▂▂▂▂▂▂▁▁▂▁▂▁▁▁▁▁▁▁▁▁</td></tr><tr><td>epoch</td><td>▁▁▁▁▁▁▁▁▃▃▃▃▃▃▃▃▅▅▅▅▅▅▅▅▆▆▆▆▆▆▆█████████</td></tr><tr><td>l1_loss</td><td>▂▃▆▇▆▄▇▃▆▆▅▇█▅▅▆▆▄▆▄▅▅▃▃▄▃▄▄▅▇▃▃▂▅▃▄▂▄▁▂</td></tr><tr><td>loss</td><td>█▂▂▂▂▂▂▂▁▂▂▁▂▂▂▁▁▁▁▂▁▁▁▁▁▁▁▁▁▁▁▁▁▁▁▁▁▁▁▁</td></tr><tr><td>mse_loss</td><td>█▇▃▂▂▂▁▁▁▁▁▁▁▁▁▁▁▁▁▁▁▁▁▁▁▁▁▁▁▁▁▁▁▁▁▁▁▁▁▁</td></tr><tr><td>sparsity/mean</td><td>█▁▁▁▁▁▁▁▁▁▁▁▁▁▁▁▁▁▁▁▁▁▁▁▁▁▁▁▁▁▁▁▁▁▁▁▁▁▁▁</td></tr><tr><td>sparsity_below_1e-5</td><td>▂█▇███████████▁▇███████████████████████▇</td></tr><tr><td>sparsity_below_1e-6</td><td>▁███████████████████████████████████████</td></tr></table><br/></div><div class=\"wandb-col\"><h3>Run summary:</h3><br/><table class=\"wandb\"><tr><td>L0</td><td>2.10938</td></tr><tr><td>epoch</td><td>5</td></tr><tr><td>l1_loss</td><td>2.29034</td></tr><tr><td>loss</td><td>7.17808</td></tr><tr><td>mse_loss</td><td>4.88773</td></tr><tr><td>sparsity/mean</td><td>1e-05</td></tr><tr><td>sparsity_below_1e-5</td><td>0.99956</td></tr><tr><td>sparsity_below_1e-6</td><td>0.99956</td></tr></table><br/></div></div>"
      ],
      "text/plain": [
       "<IPython.core.display.HTML object>"
      ]
     },
     "metadata": {},
     "output_type": "display_data"
    },
    {
     "data": {
      "text/html": [
       " View run <strong style=\"color:#cdcd00\">misunderstood-cosmos-25</strong> at: <a href='https://wandb.ai/bronsonschoen-personal-use/transcoder_training_v2/runs/azhg722x' target=\"_blank\">https://wandb.ai/bronsonschoen-personal-use/transcoder_training_v2/runs/azhg722x</a><br/> View project at: <a href='https://wandb.ai/bronsonschoen-personal-use/transcoder_training_v2' target=\"_blank\">https://wandb.ai/bronsonschoen-personal-use/transcoder_training_v2</a><br/>Synced 5 W&B file(s), 0 media file(s), 2 artifact file(s) and 0 other file(s)"
      ],
      "text/plain": [
       "<IPython.core.display.HTML object>"
      ]
     },
     "metadata": {},
     "output_type": "display_data"
    },
    {
     "data": {
      "text/html": [
       "Find logs at: <code>./wandb/run-20240915_193944-azhg722x/logs</code>"
      ],
      "text/plain": [
       "<IPython.core.display.HTML object>"
      ]
     },
     "metadata": {},
     "output_type": "display_data"
    }
   ],
   "source": [
    "# Initialize wandb\n",
    "wandb.init(\n",
    "    project=\"transcoder_training_v2\",\n",
    "    config=dataclasses.asdict(training_cfg),\n",
    ")\n",
    "\n",
    "transcoder = Transcoder(cfg=transcoder_cfg)\n",
    "\n",
    "transcoder = transcoder.to(device)\n",
    "\n",
    "# Initialize optimizer\n",
    "optimizer = torch.optim.AdamW(transcoder.parameters(), lr=training_cfg.learning_rate)\n",
    "\n",
    "num_steps = 0\n",
    "\n",
    "# needed to track activation frequency\n",
    "n_frac_active_tokens = 0\n",
    "act_freq_scores = torch.zeros(transcoder.cfg.d_hidden, device=device)\n",
    "\n",
    "# Training loop\n",
    "for epoch in range(training_cfg.num_epochs):\n",
    "\n",
    "    for batch_index, batch in tqdm.tqdm(\n",
    "        enumerate(activations_dataloader),\n",
    "        desc=f\"Epoch {epoch+1}/{training_cfg.num_epochs}\",\n",
    "    ):\n",
    "\n",
    "        # Do a training step.\n",
    "        transcoder.train()\n",
    "\n",
    "        # Make sure the W_dec is still zero-norm\n",
    "        transcoder.set_decoder_norm_to_unit_norm()\n",
    "\n",
    "        optimizer.zero_grad()\n",
    "\n",
    "        # move batch to device\n",
    "        batch_x, batch_y = batch\n",
    "\n",
    "        mlp_in = batch_x[0].to(device)\n",
    "        mlp_out = batch_y[0].to(device)\n",
    "\n",
    "        # transcoder_results.transcoder_out: Float[Tensor, \"... d_out\"]\n",
    "        # transcoder_results.hidden_activations: Float[Tensor, \"... d_hidden\"]\n",
    "        transcoder_results = transcoder(mlp_in)\n",
    "\n",
    "        # Compute loss\n",
    "        loss_result = compute_loss(training_cfg, mlp_out, transcoder_results)\n",
    "\n",
    "        loss = loss_result.mse_loss + loss_result.l1_loss\n",
    "\n",
    "        # Backward pass and optimization\n",
    "        loss.backward()\n",
    "\n",
    "        optimizer.step()\n",
    "\n",
    "        num_steps += 1\n",
    "\n",
    "        # Calculate the sparsities, and add it to a list, calculate sparsity metrics\n",
    "        #\n",
    "        # transcoder_results.hidden_activations.shape=torch.Size([64, 128, 98304])\n",
    "        #\n",
    "        # act_freq_scores_update.shape=torch.Size([98304])\n",
    "        #\n",
    "        # Want to sum over both the seq and batch dimensions\n",
    "        # act_freq_scores += (\n",
    "        #    (transcoder_results.hidden_activations.abs() > 0).float().sum(dim=(0, 1))\n",
    "        # )\n",
    "\n",
    "        # Update the total number of tokens processed\n",
    "        # batch_size * seq_len\n",
    "        # n_frac_active_tokens += batch_x.shape[0] * batch_x.shape[1]\n",
    "\n",
    "        # Calculate the mean activation frequency per neuron\n",
    "        # Shape: [hidden_size]\n",
    "        # feature_sparsity = act_freq_scores / n_frac_active_tokens\n",
    "\n",
    "        # Print loss statistics every 10 batches\n",
    "        if batch_index % 10 == 0:\n",
    "\n",
    "            # Compute the mean activation over both batch and sequence dimensions\n",
    "            # feature_sparsity.shape will be [hidden_size], i.e., [98304]\n",
    "            feature_sparsity = (\n",
    "                (transcoder_results.hidden_activations.abs() > 0)\n",
    "                .float()\n",
    "                .mean(dim=(0, 1))\n",
    "            )\n",
    "\n",
    "            # metrics for currents acts\n",
    "            l0 = (transcoder_results.hidden_activations > 0).float().sum(-1).mean()\n",
    "\n",
    "            # feature_sparsity.shape=torch.Size([128, 98304])\n",
    "\n",
    "            print(\n",
    "                f\"Epoch {epoch+1}/{training_cfg.num_epochs}, \"\n",
    "                f\"Batch {batch_index}/{len(activations_dataloader)}, \"\n",
    "                f\"Loss: {loss.item():.6f}, \"\n",
    "                f\"MSE Loss: {loss_result.mse_loss.item():.6f}, \"\n",
    "                f\"L1 Loss: {loss_result.l1_loss.item():.6f}, \"\n",
    "                # f\"Sparsity: {feature_sparsity.item():.6f}, \"\n",
    "                f\"L0: {l0.item():.6f}\"\n",
    "            )\n",
    "\n",
    "            # Log metrics to wandb\n",
    "            wandb.log(\n",
    "                {\n",
    "                    \"epoch\": epoch + 1,\n",
    "                    \"loss\": loss.item(),\n",
    "                    \"mse_loss\": loss_result.mse_loss.item(),\n",
    "                    \"l1_loss\": loss_result.l1_loss.item(),\n",
    "                    \"L0\": l0.item(),\n",
    "                    # \"feature_sparsity\": feature_sparsity.item(),\n",
    "                    \"sparsity/mean\": feature_sparsity.mean().item(),\n",
    "                    \"sparsity_below_1e-5\": (feature_sparsity < 1e-5)\n",
    "                    .float()\n",
    "                    .mean()\n",
    "                    .item(),\n",
    "                    \"sparsity_below_1e-6\": (feature_sparsity < 1e-6)\n",
    "                    .float()\n",
    "                    .mean()\n",
    "                    .item(),\n",
    "                },\n",
    "                step=num_steps,\n",
    "            )\n",
    "\n",
    "    # Log model parameters and gradients\n",
    "    # wandb.watch(transcoder)\n",
    "\n",
    "print(\"Training completed!\")\n",
    "\n",
    "# Finish the wandb run\n",
    "wandb.finish()"
   ]
  },
  {
   "cell_type": "code",
   "execution_count": 42,
   "id": "4ac52fe5",
   "metadata": {},
   "outputs": [
    {
     "data": {
      "text/plain": [
       "torch.Size([1, 64, 128, 768])"
      ]
     },
     "execution_count": 42,
     "metadata": {},
     "output_type": "execute_result"
    }
   ],
   "source": [
    "batch[1].shape"
   ]
  },
  {
   "cell_type": "code",
   "execution_count": 57,
   "id": "a4bf8b44",
   "metadata": {},
   "outputs": [
    {
     "name": "stdout",
     "output_type": "stream",
     "text": [
      "Transcoder model saved to full_transcoder_model_blocks.11.ln2.hook_normalized.pth\n"
     ]
    }
   ],
   "source": [
    "# Save the trained transcoder model to a file\n",
    "import torch\n",
    "import pathlib\n",
    "\n",
    "# Define the path where you want to save the model\n",
    "model_save_path = f\"full_transcoder_model_{training_cfg.hook_point}.pth\"\n",
    "\n",
    "print(f\"Transcoder model saved to {model_save_path}\")\n",
    "\n",
    "if not pathlib.Path(model_save_path).exists():\n",
    "    torch.save(transcoder, model_save_path)"
   ]
  },
  {
   "cell_type": "code",
   "execution_count": 58,
   "id": "c030fb1a",
   "metadata": {},
   "outputs": [
    {
     "name": "stderr",
     "output_type": "stream",
     "text": [
      "/tmp/ipykernel_52487/3283311484.py:2: FutureWarning: You are using `torch.load` with `weights_only=False` (the current default value), which uses the default pickle module implicitly. It is possible to construct malicious pickle data which will execute arbitrary code during unpickling (See https://github.com/pytorch/pytorch/blob/main/SECURITY.md#untrusted-models for more details). In a future release, the default value for `weights_only` will be flipped to `True`. This limits the functions that could be executed during unpickling. Arbitrary objects will no longer be allowed to be loaded via this mode unless they are explicitly allowlisted by the user via `torch.serialization.add_safe_globals`. We recommend you start setting `weights_only=True` for any use case where you don't have full control of the loaded file. Please open an issue on GitHub for any issues related to this experimental feature.\n",
      "  loaded_transcoder = torch.load(model_save_path)\n"
     ]
    },
    {
     "name": "stdout",
     "output_type": "stream",
     "text": [
      "Loaded transcoder\n",
      "Transcoder()\n",
      "Parameter: W_enc, Shape: torch.Size([768, 98304])\n",
      "Parameter: b_enc, Shape: torch.Size([98304])\n",
      "Parameter: W_dec, Shape: torch.Size([98304, 768])\n",
      "Parameter: b_dec, Shape: torch.Size([768])\n",
      "Parameter: b_dec_out, Shape: torch.Size([768])\n"
     ]
    }
   ],
   "source": [
    "# Load the full transcoder model\n",
    "loaded_transcoder = torch.load(model_save_path)\n",
    "\n",
    "loaded_transcoder.to(device)\n",
    "\n",
    "print(\"Loaded transcoder\")\n",
    "\n",
    "# Set the loaded model to evaluation mode\n",
    "loaded_transcoder.eval()\n",
    "\n",
    "print(loaded_transcoder)  # Print the loaded model architecture\n",
    "\n",
    "# Optionally, you can verify the model's parameters\n",
    "for name, param in loaded_transcoder.named_parameters():\n",
    "    print(f\"Parameter: {name}, Shape: {param.shape}\")"
   ]
  },
  {
   "cell_type": "markdown",
   "id": "8074e379",
   "metadata": {},
   "source": [
    "# Compute Loss When Substituting MLP with Transcoder"
   ]
  },
  {
   "cell_type": "code",
   "execution_count": 59,
   "id": "2d46b6f9",
   "metadata": {},
   "outputs": [],
   "source": [
    "class _TranscoderWrapper(torch.nn.Module):\n",
    "    def __init__(self, transcoder: Transcoder):\n",
    "        super().__init__()\n",
    "        self.transcoder = transcoder\n",
    "\n",
    "    def forward(\n",
    "        self, x: Float[torch.Tensor, \"... d_in\"]\n",
    "    ) -> Float[torch.Tensor, \"... d_out\"]:\n",
    "        transcoder_result = self.transcoder(x)\n",
    "        return transcoder_result.transcoder_out\n",
    "\n",
    "\n",
    "@torch.no_grad()\n",
    "def get_test_loss_when_replacing_mlp_with_transcoder(\n",
    "    batch_tokens: Float[torch.Tensor, \"batch seq\"],\n",
    "    transcoder: Transcoder,\n",
    "    model: transformer_lens.HookedTransformer,\n",
    "    hook_point_layer: str,\n",
    ") -> Float[torch.Tensor, \"\"]:\n",
    "    \"\"\"\n",
    "    A method for running the model with the SAE activations in order to return the\n",
    "    loss returns per token loss when activations are substituted in.\n",
    "\n",
    "    \"\"\"\n",
    "    old_mlp = model.blocks[hook_point_layer]\n",
    "\n",
    "    model.blocks[hook_point_layer].mlp = _TranscoderWrapper(transcoder)\n",
    "\n",
    "    ce_loss_with_recons = model.run_with_hooks(batch_tokens, return_type=\"loss\")\n",
    "\n",
    "    model.blocks[hook_point_layer] = old_mlp\n",
    "\n",
    "    model.reset_hooks()\n",
    "\n",
    "    return ce_loss_with_recons"
   ]
  },
  {
   "cell_type": "code",
   "execution_count": null,
   "id": "3b2ef88d",
   "metadata": {},
   "outputs": [],
   "source": []
  },
  {
   "cell_type": "code",
   "execution_count": 60,
   "id": "9e87ea8b",
   "metadata": {},
   "outputs": [
    {
     "name": "stdout",
     "output_type": "stream",
     "text": [
      "Loading dataset...\n",
      "Tokenizing dataset...\n",
      "torch.Size([10, 128])\n",
      "Creating dataloader for dataset...\n",
      "Num batches: 0.15625\n",
      "avg_loss_original=0.3654099225997925\n",
      "avg_loss_when_replaced_mlp=0.371588921546936\n"
     ]
    }
   ],
   "source": [
    "# compute how much worse this makes the loss\n",
    "#\n",
    "# note: normally compare to ablated\n",
    "#\n",
    "transcoder = loaded_transcoder\n",
    "\n",
    "transcoder.eval()\n",
    "\n",
    "num_batches = 10\n",
    "\n",
    "dataloader = create_tokenized_dataloader(num_samples=num_batches)\n",
    "\n",
    "avg_loss_original = 0\n",
    "avg_loss_when_replaced_mlp = 0\n",
    "\n",
    "for batch_index, batch in enumerate(dataloader):\n",
    "\n",
    "    if batch_index > num_batches:\n",
    "        break\n",
    "\n",
    "    batch = batch.to(device)\n",
    "\n",
    "    loss_original = model.run_with_hooks(batch, return_type=\"loss\")\n",
    "\n",
    "    loss_when_replaced_mlp = get_test_loss_when_replacing_mlp_with_transcoder(\n",
    "        batch_tokens=batch,\n",
    "        transcoder=transcoder,\n",
    "        model=model,\n",
    "        hook_point_layer=training_cfg.hook_point_layer,\n",
    "    )\n",
    "\n",
    "    avg_loss_original += loss_original.item()\n",
    "    avg_loss_when_replaced_mlp += loss_when_replaced_mlp.item()\n",
    "\n",
    "avg_loss_original /= num_batches\n",
    "avg_loss_when_replaced_mlp /= num_batches\n",
    "\n",
    "print(f\"{avg_loss_original=}\")\n",
    "print(f\"{avg_loss_when_replaced_mlp=}\")"
   ]
  },
  {
   "cell_type": "markdown",
   "id": "501dc0af",
   "metadata": {},
   "source": [
    "# Sanity Check - Indirect Object Identification\n",
    "\n",
    "We quickly check that IOI isn't impacted (it shouldn't be, since we know it\n",
    "doesn't depend much on MLP, but it's good to check against a known result)."
   ]
  },
  {
   "cell_type": "code",
   "execution_count": 61,
   "id": "831791e0",
   "metadata": {},
   "outputs": [
    {
     "name": "stdout",
     "output_type": "stream",
     "text": [
      "Tokenized prompt: ['<|endoftext|>', 'After', ' John', ' and', ' Mary', ' went', ' to', ' the', ' store', ',', ' John', ' gave', ' a', ' bottle', ' of', ' milk', ' to']\n",
      "Tokenized answer: [' Mary']\n"
     ]
    },
    {
     "data": {
      "text/html": [
       "<pre style=\"white-space:pre;overflow-x:auto;line-height:normal;font-family:Menlo,'DejaVu Sans Mono',consolas,'Courier New',monospace\">Performance on answer token:\n",
       "<span style=\"font-weight: bold\">Rank: </span><span style=\"color: #008080; text-decoration-color: #008080; font-weight: bold\">0</span><span style=\"font-weight: bold\">        Logit: </span><span style=\"color: #008080; text-decoration-color: #008080; font-weight: bold\">18.39</span><span style=\"font-weight: bold\"> Prob: </span><span style=\"color: #008080; text-decoration-color: #008080; font-weight: bold\">75.11</span><span style=\"font-weight: bold\">% Token: | Mary|</span>\n",
       "</pre>\n"
      ],
      "text/plain": [
       "Performance on answer token:\n",
       "\u001b[1mRank: \u001b[0m\u001b[1;36m0\u001b[0m\u001b[1m        Logit: \u001b[0m\u001b[1;36m18.39\u001b[0m\u001b[1m Prob: \u001b[0m\u001b[1;36m75.11\u001b[0m\u001b[1m% Token: | Mary|\u001b[0m\n"
      ]
     },
     "metadata": {},
     "output_type": "display_data"
    },
    {
     "name": "stdout",
     "output_type": "stream",
     "text": [
      "Top 0th token. Logit: 18.39 Prob: 75.11% Token: | Mary|\n",
      "Top 1th token. Logit: 15.74 Prob:  5.33% Token: | John|\n",
      "Top 2th token. Logit: 15.69 Prob:  5.03% Token: | the|\n",
      "Top 3th token. Logit: 14.92 Prob:  2.35% Token: | them|\n",
      "Top 4th token. Logit: 14.24 Prob:  1.19% Token: | his|\n",
      "Top 5th token. Logit: 13.88 Prob:  0.83% Token: | a|\n",
      "Top 6th token. Logit: 13.34 Prob:  0.48% Token: | her|\n",
      "Top 7th token. Logit: 13.26 Prob:  0.45% Token: | their|\n",
      "Top 8th token. Logit: 13.25 Prob:  0.44% Token: | Jesus|\n",
      "Top 9th token. Logit: 13.17 Prob:  0.41% Token: | Mrs|\n"
     ]
    },
    {
     "data": {
      "text/html": [
       "<pre style=\"white-space:pre;overflow-x:auto;line-height:normal;font-family:Menlo,'DejaVu Sans Mono',consolas,'Courier New',monospace\"><span style=\"font-weight: bold\">Ranks of the answer tokens:</span> <span style=\"font-weight: bold\">[(</span><span style=\"color: #008000; text-decoration-color: #008000\">' Mary'</span>, <span style=\"color: #008080; text-decoration-color: #008080; font-weight: bold\">0</span><span style=\"font-weight: bold\">)]</span>\n",
       "</pre>\n"
      ],
      "text/plain": [
       "\u001b[1mRanks of the answer tokens:\u001b[0m \u001b[1m[\u001b[0m\u001b[1m(\u001b[0m\u001b[32m' Mary'\u001b[0m, \u001b[1;36m0\u001b[0m\u001b[1m)\u001b[0m\u001b[1m]\u001b[0m\n"
      ]
     },
     "metadata": {},
     "output_type": "display_data"
    }
   ],
   "source": [
    "import transformer_lens\n",
    "\n",
    "# sanity check with an example\n",
    "example_prompt = \"After John and Mary went to the store, John gave a bottle of milk to\"\n",
    "example_answer = \" Mary\"\n",
    "transformer_lens.utils.test_prompt(\n",
    "    example_prompt,\n",
    "    example_answer,\n",
    "    model,\n",
    "    prepend_bos=True,\n",
    ")"
   ]
  },
  {
   "cell_type": "code",
   "execution_count": 62,
   "id": "291f262c",
   "metadata": {},
   "outputs": [
    {
     "name": "stdout",
     "output_type": "stream",
     "text": [
      "Tokenized prompt: ['<|endoftext|>', 'After', ' John', ' and', ' Mary', ' went', ' to', ' the', ' store', ',', ' John', ' gave', ' a', ' bottle', ' of', ' milk', ' to']\n",
      "Tokenized answer: [' Mary']\n"
     ]
    },
    {
     "data": {
      "text/html": [
       "<pre style=\"white-space:pre;overflow-x:auto;line-height:normal;font-family:Menlo,'DejaVu Sans Mono',consolas,'Courier New',monospace\">Performance on answer token:\n",
       "<span style=\"font-weight: bold\">Rank: </span><span style=\"color: #008080; text-decoration-color: #008080; font-weight: bold\">0</span><span style=\"font-weight: bold\">        Logit: </span><span style=\"color: #008080; text-decoration-color: #008080; font-weight: bold\">18.39</span><span style=\"font-weight: bold\"> Prob: </span><span style=\"color: #008080; text-decoration-color: #008080; font-weight: bold\">75.11</span><span style=\"font-weight: bold\">% Token: | Mary|</span>\n",
       "</pre>\n"
      ],
      "text/plain": [
       "Performance on answer token:\n",
       "\u001b[1mRank: \u001b[0m\u001b[1;36m0\u001b[0m\u001b[1m        Logit: \u001b[0m\u001b[1;36m18.39\u001b[0m\u001b[1m Prob: \u001b[0m\u001b[1;36m75.11\u001b[0m\u001b[1m% Token: | Mary|\u001b[0m\n"
      ]
     },
     "metadata": {},
     "output_type": "display_data"
    },
    {
     "name": "stdout",
     "output_type": "stream",
     "text": [
      "Top 0th token. Logit: 18.39 Prob: 75.11% Token: | Mary|\n",
      "Top 1th token. Logit: 15.74 Prob:  5.33% Token: | John|\n",
      "Top 2th token. Logit: 15.69 Prob:  5.03% Token: | the|\n",
      "Top 3th token. Logit: 14.92 Prob:  2.35% Token: | them|\n",
      "Top 4th token. Logit: 14.24 Prob:  1.19% Token: | his|\n",
      "Top 5th token. Logit: 13.88 Prob:  0.83% Token: | a|\n",
      "Top 6th token. Logit: 13.34 Prob:  0.48% Token: | her|\n",
      "Top 7th token. Logit: 13.26 Prob:  0.45% Token: | their|\n",
      "Top 8th token. Logit: 13.25 Prob:  0.44% Token: | Jesus|\n",
      "Top 9th token. Logit: 13.17 Prob:  0.41% Token: | Mrs|\n"
     ]
    },
    {
     "data": {
      "text/html": [
       "<pre style=\"white-space:pre;overflow-x:auto;line-height:normal;font-family:Menlo,'DejaVu Sans Mono',consolas,'Courier New',monospace\"><span style=\"font-weight: bold\">Ranks of the answer tokens:</span> <span style=\"font-weight: bold\">[(</span><span style=\"color: #008000; text-decoration-color: #008000\">' Mary'</span>, <span style=\"color: #008080; text-decoration-color: #008080; font-weight: bold\">0</span><span style=\"font-weight: bold\">)]</span>\n",
       "</pre>\n"
      ],
      "text/plain": [
       "\u001b[1mRanks of the answer tokens:\u001b[0m \u001b[1m[\u001b[0m\u001b[1m(\u001b[0m\u001b[32m' Mary'\u001b[0m, \u001b[1;36m0\u001b[0m\u001b[1m)\u001b[0m\u001b[1m]\u001b[0m\n"
      ]
     },
     "metadata": {},
     "output_type": "display_data"
    }
   ],
   "source": [
    "import torch.nn as nn\n",
    "\n",
    "old_mlp = model.blocks[training_cfg.hook_point_layer]\n",
    "\n",
    "model.blocks[training_cfg.hook_point_layer].mlp = _TranscoderWrapper(transcoder)\n",
    "\n",
    "transformer_lens.utils.test_prompt(\n",
    "    example_prompt,\n",
    "    example_answer,\n",
    "    model,\n",
    "    prepend_bos=True,\n",
    ")\n",
    "\n",
    "model.blocks[training_cfg.hook_point_layer] = old_mlp"
   ]
  },
  {
   "cell_type": "markdown",
   "id": "762ce066",
   "metadata": {},
   "source": [
    "# Differences In Generated Text"
   ]
  },
  {
   "cell_type": "code",
   "execution_count": 63,
   "id": "699b86a7",
   "metadata": {},
   "outputs": [
    {
     "name": "stderr",
     "output_type": "stream",
     "text": [
      "  0%|          | 0/100 [00:00<?, ?it/s]"
     ]
    },
    {
     "name": "stderr",
     "output_type": "stream",
     "text": [
      "100%|██████████| 100/100 [00:02<00:00, 45.58it/s]"
     ]
    },
    {
     "name": "stdout",
     "output_type": "stream",
     "text": [
      "The speech is about the \"new\" American culture of \"self-expression,\" which is the \"new\" American culture of \"self-expression,\" which is the \"new\" American culture of \"self-expression,\" which is the \"new\" American culture of \"self-expression,\" which is the \"new\" American culture of \"self-expression,\" which is the \"new\" American culture of \"self-expression,\" which is the \"new\" American culture of \"self-expression,\" which is the \"\n"
     ]
    },
    {
     "name": "stderr",
     "output_type": "stream",
     "text": [
      "\n"
     ]
    }
   ],
   "source": [
    "prompt = \"The speech is about\"\n",
    "\n",
    "generated_text = model.generate(\n",
    "    prompt,\n",
    "    max_new_tokens=100,\n",
    "    temperature=0,\n",
    "    stop_at_eos=True,\n",
    ")\n",
    "\n",
    "print(generated_text)"
   ]
  },
  {
   "cell_type": "code",
   "execution_count": 64,
   "id": "1c2eb68c",
   "metadata": {},
   "outputs": [
    {
     "name": "stderr",
     "output_type": "stream",
     "text": [
      "  0%|          | 0/100 [00:00<?, ?it/s]"
     ]
    },
    {
     "name": "stderr",
     "output_type": "stream",
     "text": [
      "100%|██████████| 100/100 [00:01<00:00, 53.66it/s]"
     ]
    },
    {
     "name": "stdout",
     "output_type": "stream",
     "text": [
      "The speech is about the \"new\" American culture of \"self-expression,\" which is the \"new\" American culture of \"self-expression,\" which is the \"new\" American culture of \"self-expression,\" which is the \"new\" American culture of \"self-expression,\" which is the \"new\" American culture of \"self-expression,\" which is the \"new\" American culture of \"self-expression,\" which is the \"new\" American culture of \"self-expression,\" which is the \"\n"
     ]
    },
    {
     "name": "stderr",
     "output_type": "stream",
     "text": [
      "\n"
     ]
    }
   ],
   "source": [
    "prompt = \"The speech is about\"\n",
    "\n",
    "old_mlp = model.blocks[training_cfg.hook_point_layer]\n",
    "\n",
    "model.blocks[training_cfg.hook_point_layer].mlp = _TranscoderWrapper(transcoder)\n",
    "\n",
    "generated_text = model.generate(\n",
    "    prompt,\n",
    "    max_new_tokens=100,\n",
    "    temperature=0,\n",
    "    stop_at_eos=True,\n",
    ")\n",
    "\n",
    "model.blocks[training_cfg.hook_point_layer] = old_mlp\n",
    "\n",
    "print(generated_text)"
   ]
  },
  {
   "cell_type": "code",
   "execution_count": null,
   "id": "21f91875",
   "metadata": {},
   "outputs": [],
   "source": []
  },
  {
   "cell_type": "markdown",
   "id": "20862c61",
   "metadata": {},
   "source": [
    "# Top Activating Examples"
   ]
  },
  {
   "cell_type": "code",
   "execution_count": 65,
   "id": "d44f9618",
   "metadata": {},
   "outputs": [],
   "source": [
    "# now we can unload gpu\n",
    "torch.cuda.empty_cache()"
   ]
  },
  {
   "cell_type": "code",
   "execution_count": null,
   "id": "29037f25",
   "metadata": {},
   "outputs": [],
   "source": []
  },
  {
   "cell_type": "code",
   "execution_count": 66,
   "id": "1624bdef",
   "metadata": {},
   "outputs": [
    {
     "name": "stdout",
     "output_type": "stream",
     "text": [
      "Loading dataset...\n",
      "Tokenizing dataset...\n",
      "torch.Size([100, 128])\n",
      "Creating dataloader for dataset...\n",
      "Num batches: 1.5625\n"
     ]
    }
   ],
   "source": [
    "# don't shuffle, that way we can lookup token batches by index\n",
    "dataloader = create_tokenized_dataloader(num_samples=100, shuffle=False)"
   ]
  },
  {
   "cell_type": "code",
   "execution_count": 67,
   "id": "3c8006c7",
   "metadata": {},
   "outputs": [
    {
     "name": "stderr",
     "output_type": "stream",
     "text": [
      "Collecting MLP activations: 0it [00:00, ?it/s]"
     ]
    },
    {
     "name": "stderr",
     "output_type": "stream",
     "text": [
      "Collecting MLP activations: 2it [00:03,  1.89s/it]\n"
     ]
    }
   ],
   "source": [
    "# store the MLP activations\n",
    "mlp_inputs: list[Float[torch.Tensor, \"batch seq d_model\"]] = []\n",
    "mlp_outputs: list[Float[torch.Tensor, \"batch seq d_model\"]] = []\n",
    "reconstructed_mlp_outputs: list[Float[torch.Tensor, \"batch seq d_model\"]] = []\n",
    "\n",
    "# note: these in particular are absolutely huge\n",
    "transcoder_hidden_activations: list[Float[torch.Tensor, \"batch seq d_hidden\"]] = []\n",
    "\n",
    "# put model itself into eval mode so doesn't change\n",
    "model.eval()\n",
    "transcoder.eval()\n",
    "\n",
    "for batch_index, batch in tqdm.tqdm(\n",
    "    enumerate(dataloader),\n",
    "    desc=\"Collecting MLP activations\",\n",
    "):\n",
    "    # move batch to device\n",
    "    batch = batch.to(device)\n",
    "\n",
    "    # Get MLP input and output activations\n",
    "    model.run_with_hooks(\n",
    "        batch,\n",
    "        fwd_hooks=[\n",
    "            (training_cfg.hook_point, store_mlp_inputs),\n",
    "            (training_cfg.out_hook_point, store_mlp_output),\n",
    "        ],\n",
    "        return_type=None,\n",
    "    )\n",
    "\n",
    "    # also reconstruct the mlp outputs using the transcoder\n",
    "    mlp_input = mlp_inputs[-1].to(device)\n",
    "\n",
    "    transcoder_result = transcoder(mlp_input)\n",
    "\n",
    "    reconstructed_mlp_output = transcoder_result.transcoder_out\n",
    "    transcoder_hidden_activation = transcoder_result.hidden_activations\n",
    "\n",
    "    reconstructed_mlp_outputs.append(reconstructed_mlp_output.detach().cpu())\n",
    "    transcoder_hidden_activations.append(transcoder_hidden_activation.detach().cpu())"
   ]
  },
  {
   "cell_type": "code",
   "execution_count": 32,
   "id": "49b60dfb",
   "metadata": {},
   "outputs": [
    {
     "name": "stdout",
     "output_type": "stream",
     "text": [
      "torch.Size([128, 128])\n"
     ]
    }
   ],
   "source": [
    "# access corresponding batch directly\n",
    "batch = dataloader.dataset[batch_index : batch_index + dataloader.batch_size]\n",
    "\n",
    "print(batch.shape)"
   ]
  },
  {
   "cell_type": "code",
   "execution_count": 68,
   "id": "009b1823",
   "metadata": {},
   "outputs": [
    {
     "name": "stdout",
     "output_type": "stream",
     "text": [
      "mlp_inputs_tensor.shape=torch.Size([64, 128, 768])\n",
      "mlp_outputs_tensor.shape=torch.Size([64, 128, 768])\n",
      "reconstructed_mlp_outputs_tensor.shape=torch.Size([64, 128, 768])\n",
      "transcoder_hidden_activations_tensor.shape=torch.Size([64, 128, 98304])\n"
     ]
    }
   ],
   "source": [
    "import einops\n",
    "\n",
    "\n",
    "def stack_list_of_tensors(\n",
    "    tensors: list[Float[torch.Tensor, \"batch seq d_model\"]]\n",
    ") -> Float[torch.Tensor, \"batch seq d_model\"]:\n",
    "\n",
    "    # Drop the last batch in case it doesn't match the rest of that shapes (ex: size 16 when batch size 128)\n",
    "    if tensors[-1].shape[0] != tensors[0].shape[0]:\n",
    "        tensors = tensors[:-1]\n",
    "\n",
    "    return einops.rearrange(\n",
    "        torch.stack(tensors),\n",
    "        \"num_batches batch seq d_model -> (num_batches batch) seq d_model\",\n",
    "    )\n",
    "\n",
    "\n",
    "ResidualStream = Float[torch.Tensor, \"batch seq d_model\"]\n",
    "TranscoderHidden = Float[torch.Tensor, \"batch seq d_hidden\"]\n",
    "\n",
    "# Now we can safely stack the tensors\n",
    "mlp_inputs_tensor: ResidualStream = stack_list_of_tensors(mlp_inputs)\n",
    "mlp_outputs_tensor: ResidualStream = stack_list_of_tensors(mlp_outputs)\n",
    "reconstructed_mlp_outputs_tensor: ResidualStream = stack_list_of_tensors(\n",
    "    reconstructed_mlp_outputs\n",
    ")\n",
    "transcoder_hidden_activations_tensor: TranscoderHidden = stack_list_of_tensors(\n",
    "    transcoder_hidden_activations\n",
    ")\n",
    "\n",
    "# mlp_inputs_tensor.shape=torch.Size([960, 128, 768])\n",
    "# mlp_outputs_tensor.shape=torch.Size([960, 128, 768])\n",
    "# reconstructed_mlp_outputs_tensor.shape=torch.Size([960, 128, 768])\n",
    "# transcoder_hidden_activations_tensor.shape=torch.Size([960, 128, 98304])\n",
    "print(f\"{mlp_inputs_tensor.shape=}\")\n",
    "print(f\"{mlp_outputs_tensor.shape=}\")\n",
    "print(f\"{reconstructed_mlp_outputs_tensor.shape=}\")\n",
    "print(f\"{transcoder_hidden_activations_tensor.shape=}\")"
   ]
  },
  {
   "cell_type": "code",
   "execution_count": 69,
   "id": "10893403",
   "metadata": {},
   "outputs": [],
   "source": [
    "# reset these lists, since we no longer need this storage\n",
    "mlp_inputs: list[Float[torch.Tensor, \"batch seq d_model\"]] = []\n",
    "mlp_outputs: list[Float[torch.Tensor, \"batch seq d_model\"]] = []\n",
    "reconstructed_mlp_outputs: list[Float[torch.Tensor, \"batch seq d_model\"]] = []\n",
    "transcoder_hidden_activations: list[Float[torch.Tensor, \"batch seq d_hidden\"]] = []"
   ]
  },
  {
   "cell_type": "code",
   "execution_count": 70,
   "id": "7d5ce12c",
   "metadata": {},
   "outputs": [
    {
     "name": "stdout",
     "output_type": "stream",
     "text": [
      "token_inputs_tensor.shape=torch.Size([64, 128])\n"
     ]
    }
   ],
   "source": [
    "# dataloader.dataset is `torch.Size([10000, 128])`\n",
    "#\n",
    "# (num_batches batch) seq\n",
    "token_inputs_tensor = dataloader.dataset[: mlp_outputs_tensor.shape[0]]\n",
    "\n",
    "# token_inputs_tensor.shape=torch.Size([9984, 128])\n",
    "print(f\"{token_inputs_tensor.shape=}\")"
   ]
  },
  {
   "cell_type": "code",
   "execution_count": 71,
   "id": "4e14c8ef",
   "metadata": {},
   "outputs": [],
   "source": [
    "# now we can unload gpu\n",
    "torch.cuda.empty_cache()"
   ]
  },
  {
   "cell_type": "code",
   "execution_count": 72,
   "id": "24c314af",
   "metadata": {},
   "outputs": [
    {
     "data": {
      "image/png": "[encoded data removed]",
      "text/plain": [
       "<Figure size 1000x600 with 1 Axes>"
      ]
     },
     "metadata": {},
     "output_type": "display_data"
    }
   ],
   "source": [
    "import matplotlib.pyplot as plt\n",
    "\n",
    "# Flatten the activations to a 1D array\n",
    "activations_flat = einops.rearrange(\n",
    "    transcoder_hidden_activations_tensor.abs(),\n",
    "    \"batch seq d_hidden -> (batch seq d_hidden)\",\n",
    ")\n",
    "\n",
    "# Plot the histogram\n",
    "plt.figure(figsize=(10, 6))\n",
    "plt.hist(\n",
    "    activations_flat, bins=100, log=True\n",
    ")  # Use a logarithmic scale for better visibility\n",
    "plt.title(\"Histogram of Activation Magnitudes\")\n",
    "plt.xlabel(\"Activation Magnitude\")\n",
    "plt.ylabel(\"Frequency (log scale)\")\n",
    "plt.show()"
   ]
  },
  {
   "cell_type": "code",
   "execution_count": 73,
   "id": "ac7633dd",
   "metadata": {},
   "outputs": [
    {
     "name": "stdout",
     "output_type": "stream",
     "text": [
      "Activation Magnitude Percentiles:\n",
      "90th percentile: 0.1388106346130371\n",
      "95th percentile: 0.19501689076423645\n",
      "99th percentile: 0.35799474507570395\n",
      "99.9th percentile: 0.7767808316946514\n"
     ]
    }
   ],
   "source": [
    "import numpy as np\n",
    "\n",
    "percentiles = np.percentile(activations_flat, [90, 95, 99, 99.9])\n",
    "print(\"Activation Magnitude Percentiles:\")\n",
    "for p, value in zip([90, 95, 99, 99.9], percentiles):\n",
    "    print(f\"{p}th percentile: {value}\")"
   ]
  },
  {
   "cell_type": "code",
   "execution_count": null,
   "id": "e311d718",
   "metadata": {},
   "outputs": [],
   "source": []
  },
  {
   "cell_type": "code",
   "execution_count": null,
   "id": "d61d9ce7",
   "metadata": {},
   "outputs": [],
   "source": []
  },
  {
   "cell_type": "code",
   "execution_count": 75,
   "id": "06eba72e",
   "metadata": {},
   "outputs": [
    {
     "name": "stdout",
     "output_type": "stream",
     "text": [
      "mean_activation=tensor(0.0425)\n",
      "std_activation=tensor(0.0835)\n",
      "activation_threshold=tensor(0.2094)\n"
     ]
    }
   ],
   "source": [
    "# can set as number of standard deviations above mean\n",
    "mean_activation = activations_flat.mean()\n",
    "std_activation = activations_flat.std()\n",
    "\n",
    "print(f\"{mean_activation=}\")\n",
    "print(f\"{std_activation=}\")\n",
    "\n",
    "num_std_dev_above_mean = 2\n",
    "\n",
    "activation_threshold = mean_activation + num_std_dev_above_mean * std_activation\n",
    "\n",
    "print(f\"{activation_threshold=}\")"
   ]
  },
  {
   "cell_type": "markdown",
   "id": "20e9c0d7",
   "metadata": {},
   "source": [
    "Choose a threshold to determine if a dimension is active. Common choices are:\n",
    "* A small positive number (e.g., 1e-3).\n",
    "* A percentile of the activations.\n",
    "* Mean or standard deviation-based threshold.\n",
    "\n",
    "For simplicity, we'll use a small positive number:"
   ]
  },
  {
   "cell_type": "code",
   "execution_count": 76,
   "id": "91cfd43c",
   "metadata": {},
   "outputs": [],
   "source": [
    "activation_threshold = 1e-3"
   ]
  },
  {
   "cell_type": "code",
   "execution_count": 79,
   "id": "89c15c5d",
   "metadata": {},
   "outputs": [],
   "source": [
    "# Compute boolean mask of active dimensions\n",
    "active_mask = activations_flat.abs() > activation_threshold"
   ]
  },
  {
   "cell_type": "code",
   "execution_count": 82,
   "id": "2a49239f",
   "metadata": {},
   "outputs": [
    {
     "ename": "KeyboardInterrupt",
     "evalue": "",
     "output_type": "error",
     "traceback": [
      "\u001b[0;31m---------------------------------------------------------------------------\u001b[0m",
      "\u001b[0;31mKeyboardInterrupt\u001b[0m                         Traceback (most recent call last)",
      "Cell \u001b[0;32mIn[82], line 5\u001b[0m\n\u001b[1;32m      2\u001b[0m \u001b[38;5;28;01mimport\u001b[39;00m \u001b[38;5;21;01mseaborn\u001b[39;00m \u001b[38;5;28;01mas\u001b[39;00m \u001b[38;5;21;01msns\u001b[39;00m\n\u001b[1;32m      4\u001b[0m plt\u001b[38;5;241m.\u001b[39mfigure(figsize\u001b[38;5;241m=\u001b[39m(\u001b[38;5;241m10\u001b[39m, \u001b[38;5;241m6\u001b[39m))\n\u001b[0;32m----> 5\u001b[0m \u001b[43msns\u001b[49m\u001b[38;5;241;43m.\u001b[39;49m\u001b[43mhistplot\u001b[49m\u001b[43m(\u001b[49m\u001b[43mactive_mask\u001b[49m\u001b[38;5;241;43m.\u001b[39;49m\u001b[43mcpu\u001b[49m\u001b[43m(\u001b[49m\u001b[43m)\u001b[49m\u001b[38;5;241;43m.\u001b[39;49m\u001b[43mnumpy\u001b[49m\u001b[43m(\u001b[49m\u001b[43m)\u001b[49m\u001b[43m,\u001b[49m\u001b[43m \u001b[49m\u001b[43mbins\u001b[49m\u001b[38;5;241;43m=\u001b[39;49m\u001b[38;5;241;43m50\u001b[39;49m\u001b[43m,\u001b[49m\u001b[43m \u001b[49m\u001b[43mkde\u001b[49m\u001b[38;5;241;43m=\u001b[39;49m\u001b[38;5;28;43;01mTrue\u001b[39;49;00m\u001b[43m)\u001b[49m\n\u001b[1;32m      6\u001b[0m plt\u001b[38;5;241m.\u001b[39mtitle(\u001b[38;5;124m\"\u001b[39m\u001b[38;5;124mHistogram of Active Dimensions per Sample\u001b[39m\u001b[38;5;124m\"\u001b[39m)\n\u001b[1;32m      7\u001b[0m plt\u001b[38;5;241m.\u001b[39mxlabel(\u001b[38;5;124m\"\u001b[39m\u001b[38;5;124mNumber of Active Dimensions\u001b[39m\u001b[38;5;124m\"\u001b[39m)\n",
      "File \u001b[0;32m~/minTranscoder/venv/lib/python3.10/site-packages/seaborn/distributions.py:1379\u001b[0m, in \u001b[0;36mhistplot\u001b[0;34m(data, x, y, hue, weights, stat, bins, binwidth, binrange, discrete, cumulative, common_bins, common_norm, multiple, element, fill, shrink, kde, kde_kws, line_kws, thresh, pthresh, pmax, cbar, cbar_ax, cbar_kws, palette, hue_order, hue_norm, color, log_scale, legend, ax, **kwargs)\u001b[0m\n\u001b[1;32m   1358\u001b[0m \u001b[38;5;28;01mdef\u001b[39;00m \u001b[38;5;21mhistplot\u001b[39m(\n\u001b[1;32m   1359\u001b[0m     data\u001b[38;5;241m=\u001b[39m\u001b[38;5;28;01mNone\u001b[39;00m, \u001b[38;5;241m*\u001b[39m,\n\u001b[1;32m   1360\u001b[0m     \u001b[38;5;66;03m# Vector variables\u001b[39;00m\n\u001b[0;32m   (...)\u001b[0m\n\u001b[1;32m   1376\u001b[0m     \u001b[38;5;241m*\u001b[39m\u001b[38;5;241m*\u001b[39mkwargs,\n\u001b[1;32m   1377\u001b[0m ):\n\u001b[0;32m-> 1379\u001b[0m     p \u001b[38;5;241m=\u001b[39m \u001b[43m_DistributionPlotter\u001b[49m\u001b[43m(\u001b[49m\n\u001b[1;32m   1380\u001b[0m \u001b[43m        \u001b[49m\u001b[43mdata\u001b[49m\u001b[38;5;241;43m=\u001b[39;49m\u001b[43mdata\u001b[49m\u001b[43m,\u001b[49m\n\u001b[1;32m   1381\u001b[0m \u001b[43m        \u001b[49m\u001b[43mvariables\u001b[49m\u001b[38;5;241;43m=\u001b[39;49m\u001b[38;5;28;43mdict\u001b[39;49m\u001b[43m(\u001b[49m\u001b[43mx\u001b[49m\u001b[38;5;241;43m=\u001b[39;49m\u001b[43mx\u001b[49m\u001b[43m,\u001b[49m\u001b[43m \u001b[49m\u001b[43my\u001b[49m\u001b[38;5;241;43m=\u001b[39;49m\u001b[43my\u001b[49m\u001b[43m,\u001b[49m\u001b[43m \u001b[49m\u001b[43mhue\u001b[49m\u001b[38;5;241;43m=\u001b[39;49m\u001b[43mhue\u001b[49m\u001b[43m,\u001b[49m\u001b[43m \u001b[49m\u001b[43mweights\u001b[49m\u001b[38;5;241;43m=\u001b[39;49m\u001b[43mweights\u001b[49m\u001b[43m)\u001b[49m\u001b[43m,\u001b[49m\n\u001b[1;32m   1382\u001b[0m \u001b[43m    \u001b[49m\u001b[43m)\u001b[49m\n\u001b[1;32m   1384\u001b[0m     p\u001b[38;5;241m.\u001b[39mmap_hue(palette\u001b[38;5;241m=\u001b[39mpalette, order\u001b[38;5;241m=\u001b[39mhue_order, norm\u001b[38;5;241m=\u001b[39mhue_norm)\n\u001b[1;32m   1386\u001b[0m     \u001b[38;5;28;01mif\u001b[39;00m ax \u001b[38;5;129;01mis\u001b[39;00m \u001b[38;5;28;01mNone\u001b[39;00m:\n",
      "File \u001b[0;32m~/minTranscoder/venv/lib/python3.10/site-packages/seaborn/distributions.py:110\u001b[0m, in \u001b[0;36m_DistributionPlotter.__init__\u001b[0;34m(self, data, variables)\u001b[0m\n\u001b[1;32m    104\u001b[0m \u001b[38;5;28;01mdef\u001b[39;00m \u001b[38;5;21m__init__\u001b[39m(\n\u001b[1;32m    105\u001b[0m     \u001b[38;5;28mself\u001b[39m,\n\u001b[1;32m    106\u001b[0m     data\u001b[38;5;241m=\u001b[39m\u001b[38;5;28;01mNone\u001b[39;00m,\n\u001b[1;32m    107\u001b[0m     variables\u001b[38;5;241m=\u001b[39m{},\n\u001b[1;32m    108\u001b[0m ):\n\u001b[0;32m--> 110\u001b[0m     \u001b[38;5;28;43msuper\u001b[39;49m\u001b[43m(\u001b[49m\u001b[43m)\u001b[49m\u001b[38;5;241;43m.\u001b[39;49m\u001b[38;5;21;43m__init__\u001b[39;49m\u001b[43m(\u001b[49m\u001b[43mdata\u001b[49m\u001b[38;5;241;43m=\u001b[39;49m\u001b[43mdata\u001b[49m\u001b[43m,\u001b[49m\u001b[43m \u001b[49m\u001b[43mvariables\u001b[49m\u001b[38;5;241;43m=\u001b[39;49m\u001b[43mvariables\u001b[49m\u001b[43m)\u001b[49m\n",
      "File \u001b[0;32m~/minTranscoder/venv/lib/python3.10/site-packages/seaborn/_base.py:634\u001b[0m, in \u001b[0;36mVectorPlotter.__init__\u001b[0;34m(self, data, variables)\u001b[0m\n\u001b[1;32m    629\u001b[0m \u001b[38;5;66;03m# var_ordered is relevant only for categorical axis variables, and may\u001b[39;00m\n\u001b[1;32m    630\u001b[0m \u001b[38;5;66;03m# be better handled by an internal axis information object that tracks\u001b[39;00m\n\u001b[1;32m    631\u001b[0m \u001b[38;5;66;03m# such information and is set up by the scale_* methods. The analogous\u001b[39;00m\n\u001b[1;32m    632\u001b[0m \u001b[38;5;66;03m# information for numeric axes would be information about log scales.\u001b[39;00m\n\u001b[1;32m    633\u001b[0m \u001b[38;5;28mself\u001b[39m\u001b[38;5;241m.\u001b[39m_var_ordered \u001b[38;5;241m=\u001b[39m {\u001b[38;5;124m\"\u001b[39m\u001b[38;5;124mx\u001b[39m\u001b[38;5;124m\"\u001b[39m: \u001b[38;5;28;01mFalse\u001b[39;00m, \u001b[38;5;124m\"\u001b[39m\u001b[38;5;124my\u001b[39m\u001b[38;5;124m\"\u001b[39m: \u001b[38;5;28;01mFalse\u001b[39;00m}  \u001b[38;5;66;03m# alt., used DefaultDict\u001b[39;00m\n\u001b[0;32m--> 634\u001b[0m \u001b[38;5;28;43mself\u001b[39;49m\u001b[38;5;241;43m.\u001b[39;49m\u001b[43massign_variables\u001b[49m\u001b[43m(\u001b[49m\u001b[43mdata\u001b[49m\u001b[43m,\u001b[49m\u001b[43m \u001b[49m\u001b[43mvariables\u001b[49m\u001b[43m)\u001b[49m\n\u001b[1;32m    636\u001b[0m \u001b[38;5;66;03m# TODO Lots of tests assume that these are called to initialize the\u001b[39;00m\n\u001b[1;32m    637\u001b[0m \u001b[38;5;66;03m# mappings to default values on class initialization. I'd prefer to\u001b[39;00m\n\u001b[1;32m    638\u001b[0m \u001b[38;5;66;03m# move away from that and only have a mapping when explicitly called.\u001b[39;00m\n\u001b[1;32m    639\u001b[0m \u001b[38;5;28;01mfor\u001b[39;00m var \u001b[38;5;129;01min\u001b[39;00m [\u001b[38;5;124m\"\u001b[39m\u001b[38;5;124mhue\u001b[39m\u001b[38;5;124m\"\u001b[39m, \u001b[38;5;124m\"\u001b[39m\u001b[38;5;124msize\u001b[39m\u001b[38;5;124m\"\u001b[39m, \u001b[38;5;124m\"\u001b[39m\u001b[38;5;124mstyle\u001b[39m\u001b[38;5;124m\"\u001b[39m]:\n",
      "File \u001b[0;32m~/minTranscoder/venv/lib/python3.10/site-packages/seaborn/_base.py:673\u001b[0m, in \u001b[0;36mVectorPlotter.assign_variables\u001b[0;34m(self, data, variables)\u001b[0m\n\u001b[1;32m    671\u001b[0m \u001b[38;5;28;01mif\u001b[39;00m x \u001b[38;5;129;01mis\u001b[39;00m \u001b[38;5;28;01mNone\u001b[39;00m \u001b[38;5;129;01mand\u001b[39;00m y \u001b[38;5;129;01mis\u001b[39;00m \u001b[38;5;28;01mNone\u001b[39;00m:\n\u001b[1;32m    672\u001b[0m     \u001b[38;5;28mself\u001b[39m\u001b[38;5;241m.\u001b[39minput_format \u001b[38;5;241m=\u001b[39m \u001b[38;5;124m\"\u001b[39m\u001b[38;5;124mwide\u001b[39m\u001b[38;5;124m\"\u001b[39m\n\u001b[0;32m--> 673\u001b[0m     frame, names \u001b[38;5;241m=\u001b[39m \u001b[38;5;28;43mself\u001b[39;49m\u001b[38;5;241;43m.\u001b[39;49m\u001b[43m_assign_variables_wideform\u001b[49m\u001b[43m(\u001b[49m\u001b[43mdata\u001b[49m\u001b[43m,\u001b[49m\u001b[43m \u001b[49m\u001b[38;5;241;43m*\u001b[39;49m\u001b[38;5;241;43m*\u001b[39;49m\u001b[43mvariables\u001b[49m\u001b[43m)\u001b[49m\n\u001b[1;32m    674\u001b[0m \u001b[38;5;28;01melse\u001b[39;00m:\n\u001b[1;32m    675\u001b[0m     \u001b[38;5;66;03m# When dealing with long-form input, use the newer PlotData\u001b[39;00m\n\u001b[1;32m    676\u001b[0m     \u001b[38;5;66;03m# object (internal but introduced for the objects interface)\u001b[39;00m\n\u001b[1;32m    677\u001b[0m     \u001b[38;5;66;03m# to centralize / standardize data consumption logic.\u001b[39;00m\n\u001b[1;32m    678\u001b[0m     \u001b[38;5;28mself\u001b[39m\u001b[38;5;241m.\u001b[39minput_format \u001b[38;5;241m=\u001b[39m \u001b[38;5;124m\"\u001b[39m\u001b[38;5;124mlong\u001b[39m\u001b[38;5;124m\"\u001b[39m\n",
      "File \u001b[0;32m~/minTranscoder/venv/lib/python3.10/site-packages/seaborn/_base.py:733\u001b[0m, in \u001b[0;36mVectorPlotter._assign_variables_wideform\u001b[0;34m(self, data, **kwargs)\u001b[0m\n\u001b[1;32m    731\u001b[0m \u001b[38;5;28;01melse\u001b[39;00m:\n\u001b[1;32m    732\u001b[0m     values \u001b[38;5;241m=\u001b[39m np\u001b[38;5;241m.\u001b[39matleast_1d(np\u001b[38;5;241m.\u001b[39masarray(data, dtype\u001b[38;5;241m=\u001b[39m\u001b[38;5;28mobject\u001b[39m))\n\u001b[0;32m--> 733\u001b[0m flat \u001b[38;5;241m=\u001b[39m \u001b[38;5;129;01mnot\u001b[39;00m \u001b[38;5;28;43many\u001b[39;49m\u001b[43m(\u001b[49m\n\u001b[1;32m    734\u001b[0m \u001b[43m    \u001b[49m\u001b[38;5;28;43misinstance\u001b[39;49m\u001b[43m(\u001b[49m\u001b[43mv\u001b[49m\u001b[43m,\u001b[49m\u001b[43m \u001b[49m\u001b[43mIterable\u001b[49m\u001b[43m)\u001b[49m\u001b[43m \u001b[49m\u001b[38;5;129;43;01mand\u001b[39;49;00m\u001b[43m \u001b[49m\u001b[38;5;129;43;01mnot\u001b[39;49;00m\u001b[43m \u001b[49m\u001b[38;5;28;43misinstance\u001b[39;49m\u001b[43m(\u001b[49m\u001b[43mv\u001b[49m\u001b[43m,\u001b[49m\u001b[43m \u001b[49m\u001b[43m(\u001b[49m\u001b[38;5;28;43mstr\u001b[39;49m\u001b[43m,\u001b[49m\u001b[43m \u001b[49m\u001b[38;5;28;43mbytes\u001b[39;49m\u001b[43m)\u001b[49m\u001b[43m)\u001b[49m\n\u001b[1;32m    735\u001b[0m \u001b[43m    \u001b[49m\u001b[38;5;28;43;01mfor\u001b[39;49;00m\u001b[43m \u001b[49m\u001b[43mv\u001b[49m\u001b[43m \u001b[49m\u001b[38;5;129;43;01min\u001b[39;49;00m\u001b[43m \u001b[49m\u001b[43mvalues\u001b[49m\n\u001b[1;32m    736\u001b[0m \u001b[43m\u001b[49m\u001b[43m)\u001b[49m\n\u001b[1;32m    738\u001b[0m \u001b[38;5;28;01mif\u001b[39;00m empty:\n\u001b[1;32m    739\u001b[0m \n\u001b[1;32m    740\u001b[0m     \u001b[38;5;66;03m# Make an object with the structure of plot_data, but empty\u001b[39;00m\n\u001b[1;32m    741\u001b[0m     plot_data \u001b[38;5;241m=\u001b[39m pd\u001b[38;5;241m.\u001b[39mDataFrame()\n",
      "File \u001b[0;32m~/minTranscoder/venv/lib/python3.10/site-packages/seaborn/_base.py:734\u001b[0m, in \u001b[0;36m<genexpr>\u001b[0;34m(.0)\u001b[0m\n\u001b[1;32m    731\u001b[0m \u001b[38;5;28;01melse\u001b[39;00m:\n\u001b[1;32m    732\u001b[0m     values \u001b[38;5;241m=\u001b[39m np\u001b[38;5;241m.\u001b[39matleast_1d(np\u001b[38;5;241m.\u001b[39masarray(data, dtype\u001b[38;5;241m=\u001b[39m\u001b[38;5;28mobject\u001b[39m))\n\u001b[1;32m    733\u001b[0m flat \u001b[38;5;241m=\u001b[39m \u001b[38;5;129;01mnot\u001b[39;00m \u001b[38;5;28many\u001b[39m(\n\u001b[0;32m--> 734\u001b[0m     \u001b[38;5;28;43misinstance\u001b[39;49m\u001b[43m(\u001b[49m\u001b[43mv\u001b[49m\u001b[43m,\u001b[49m\u001b[43m \u001b[49m\u001b[43mIterable\u001b[49m\u001b[43m)\u001b[49m \u001b[38;5;129;01mand\u001b[39;00m \u001b[38;5;129;01mnot\u001b[39;00m \u001b[38;5;28misinstance\u001b[39m(v, (\u001b[38;5;28mstr\u001b[39m, \u001b[38;5;28mbytes\u001b[39m))\n\u001b[1;32m    735\u001b[0m     \u001b[38;5;28;01mfor\u001b[39;00m v \u001b[38;5;129;01min\u001b[39;00m values\n\u001b[1;32m    736\u001b[0m )\n\u001b[1;32m    738\u001b[0m \u001b[38;5;28;01mif\u001b[39;00m empty:\n\u001b[1;32m    739\u001b[0m \n\u001b[1;32m    740\u001b[0m     \u001b[38;5;66;03m# Make an object with the structure of plot_data, but empty\u001b[39;00m\n\u001b[1;32m    741\u001b[0m     plot_data \u001b[38;5;241m=\u001b[39m pd\u001b[38;5;241m.\u001b[39mDataFrame()\n",
      "File \u001b[0;32m/usr/lib/python3.10/abc.py:117\u001b[0m, in \u001b[0;36mABCMeta.__instancecheck__\u001b[0;34m(cls, instance)\u001b[0m\n\u001b[1;32m    111\u001b[0m \u001b[38;5;250m    \u001b[39m\u001b[38;5;124;03m\"\"\"Register a virtual subclass of an ABC.\u001b[39;00m\n\u001b[1;32m    112\u001b[0m \n\u001b[1;32m    113\u001b[0m \u001b[38;5;124;03m    Returns the subclass, to allow usage as a class decorator.\u001b[39;00m\n\u001b[1;32m    114\u001b[0m \u001b[38;5;124;03m    \"\"\"\u001b[39;00m\n\u001b[1;32m    115\u001b[0m     \u001b[38;5;28;01mreturn\u001b[39;00m _abc_register(\u001b[38;5;28mcls\u001b[39m, subclass)\n\u001b[0;32m--> 117\u001b[0m \u001b[38;5;28;01mdef\u001b[39;00m \u001b[38;5;21m__instancecheck__\u001b[39m(\u001b[38;5;28mcls\u001b[39m, instance):\n\u001b[1;32m    118\u001b[0m \u001b[38;5;250m    \u001b[39m\u001b[38;5;124;03m\"\"\"Override for isinstance(instance, cls).\"\"\"\u001b[39;00m\n\u001b[1;32m    119\u001b[0m     \u001b[38;5;28;01mreturn\u001b[39;00m _abc_instancecheck(\u001b[38;5;28mcls\u001b[39m, instance)\n",
      "\u001b[0;31mKeyboardInterrupt\u001b[0m: "
     ]
    },
    {
     "data": {
      "text/plain": [
       "<Figure size 1000x600 with 0 Axes>"
      ]
     },
     "metadata": {},
     "output_type": "display_data"
    }
   ],
   "source": [
    "import matplotlib.pyplot as plt\n",
    "import seaborn as sns\n",
    "\n",
    "plt.figure(figsize=(10, 6))\n",
    "sns.histplot(active_mask.cpu().numpy(), bins=50, kde=True)\n",
    "plt.title(\"Histogram of Active Dimensions per Sample\")\n",
    "plt.xlabel(\"Number of Active Dimensions\")\n",
    "plt.ylabel(\"Frequency\")\n",
    "plt.show()"
   ]
  },
  {
   "cell_type": "code",
   "execution_count": 58,
   "id": "5bb8c6ba",
   "metadata": {},
   "outputs": [],
   "source": [
    "# Compute statistics\n",
    "feature_means = samples.mean(dim=0)\n",
    "feature_vars = samples.var(dim=0)\n",
    "feature_max = samples.max(dim=0).values\n",
    "\n",
    "# Optionally, compute absolute mean if activations can be negative\n",
    "feature_abs_means = samples.abs().mean(dim=0)"
   ]
  },
  {
   "cell_type": "code",
   "execution_count": 59,
   "id": "704929b7",
   "metadata": {},
   "outputs": [
    {
     "data": {
      "image/png": "[encoded data removed]",
      "text/plain": [
       "<Figure size 1000x600 with 1 Axes>"
      ]
     },
     "metadata": {},
     "output_type": "display_data"
    },
    {
     "data": {
      "image/png": "[encoded data removed]",
      "text/plain": [
       "<Figure size 1000x600 with 1 Axes>"
      ]
     },
     "metadata": {},
     "output_type": "display_data"
    }
   ],
   "source": [
    "# Plot mean activations\n",
    "plt.figure(figsize=(10, 6))\n",
    "plt.plot(feature_means.cpu().numpy())\n",
    "plt.title(\"Mean Activation per Feature\")\n",
    "plt.xlabel(\"Feature Index\")\n",
    "plt.ylabel(\"Mean Activation\")\n",
    "plt.show()\n",
    "\n",
    "# Plot variance of activations\n",
    "plt.figure(figsize=(10, 6))\n",
    "plt.plot(feature_vars.cpu().numpy())\n",
    "plt.title(\"Variance of Activation per Feature\")\n",
    "plt.xlabel(\"Feature Index\")\n",
    "plt.ylabel(\"Variance\")\n",
    "plt.show()"
   ]
  },
  {
   "cell_type": "code",
   "execution_count": 60,
   "id": "30a8c150",
   "metadata": {},
   "outputs": [
    {
     "name": "stdout",
     "output_type": "stream",
     "text": [
      "Top 10 features by absolute mean activation: tensor([94043, 11419, 26287, 92865, 37767, 62713,  8522, 49976, 89778,  7001])\n"
     ]
    }
   ],
   "source": [
    "# Get top N features by mean activation\n",
    "N = 10\n",
    "top_features = torch.topk(feature_abs_means, N).indices\n",
    "print(f\"Top {N} features by absolute mean activation: {top_features}\")"
   ]
  },
  {
   "cell_type": "code",
   "execution_count": 61,
   "id": "41d60f00",
   "metadata": {},
   "outputs": [],
   "source": [
    "# Ensure that the batch and sequence dimensions align between inputs and activations\n",
    "assert (\n",
    "    token_inputs_tensor.shape[0] == transcoder_hidden_activations_tensor.shape[0]\n",
    "), \"Batch size mismatch between inputs and activations.\"\n",
    "assert (\n",
    "    token_inputs_tensor.shape[1] == transcoder_hidden_activations_tensor.shape[1]\n",
    "), \"Sequence length mismatch between inputs and activations.\""
   ]
  },
  {
   "cell_type": "code",
   "execution_count": 62,
   "id": "a83aeccc",
   "metadata": {},
   "outputs": [
    {
     "name": "stdout",
     "output_type": "stream",
     "text": [
      "top_features.shape=torch.Size([10])\n"
     ]
    }
   ],
   "source": [
    "print(f\"{top_features.shape=}\")"
   ]
  },
  {
   "cell_type": "code",
   "execution_count": 67,
   "id": "7b52b4f6",
   "metadata": {},
   "outputs": [
    {
     "name": "stderr",
     "output_type": "stream",
     "text": [
      "Finding top features:   0%|          | 0/10 [00:00<?, ?it/s]"
     ]
    },
    {
     "name": "stderr",
     "output_type": "stream",
     "text": [
      "Finding top features: 100%|██████████| 10/10 [00:00<00:00, 117.07it/s]"
     ]
    },
    {
     "name": "stdout",
     "output_type": "stream",
     "text": [
      "\n",
      "Top 5 samples activating Feature 94043:\n",
      "Sample 1:\n",
      "  Batch index: 728, Sequence index: 106\n",
      "  Input token seq: <|endoftext|> a future? We can't do it without you.var arrayCopy = require('./arrayCopy'),\n",
      "    isArguments = require('../lang/isArguments'),\n",
      "    isArray = require('../lang/isArray'),\n",
      "    isArrayLike = require('./isArrayLike'),\n",
      "    isPlainObject = require('../lang/isPlainObject'),\n",
      "    isTypedArray = require('../lang/isTypedArray'),\n",
      "    toPlainObject = require('../lang/toPlainObject');\n",
      "  Input token: ed\n",
      "  Activation value: 1.1754902601242065\n",
      "Sample 2:\n",
      "  Batch index: 550, Sequence index: 105\n",
      "  Input token seq: <|endoftext|> as I can.\"\n",
      "\n",
      "The queen departed with her head bowed.\n",
      "\n",
      "Verasa watched her go with some puzzlement. \"Didn't you once tell me Queen Malveria waded through a river of blood to kill a dragon?\"\n",
      "\n",
      "\"She did.\"\n",
      "\n",
      "\"It seems unlikely.\"\n",
      "\n",
      "\"There aren't any dragons left,\" said Thrix, defensively. \"These days she's more interested in fashion.\"\n",
      "\n",
      "\"You seem to have been an excellent influence on her,\" said Verasa, at which Thrix bristled but made no reply.\n",
      "\n",
      "Verasa and Markus left with their\n",
      "  Input token:  Ver\n",
      "  Activation value: 1.1490815877914429\n",
      "Sample 3:\n",
      "  Batch index: 737, Sequence index: 121\n",
      "  Input token seq: <|endoftext|> law right of rescission with respect to an insurance policy. Id. at 3-5. Finally, Indianapolis Life asserts that since Kennard has not alleged he has suffered any damage as a result of the non-approval of the Kennard policy, the plaintiffs have not adequately pleaded a claim for rescission. Id. at 5.\n",
      "Kennard does not contest Indianapolis Life's statement that Article 3.42 does not, by its terms, provide a statutory private right of rescission. Plaintiff's Response to Defendant Indianapolis Life Insurance Company's Partial Motion to Dismiss, and Brief in Support (\"Kennard's Indianapolis Life Response\")\n",
      "  Input token: Kenn\n",
      "  Activation value: 1.110620141029358\n",
      "Sample 4:\n",
      "  Batch index: 550, Sequence index: 121\n",
      "  Input token seq: <|endoftext|> as I can.\"\n",
      "\n",
      "The queen departed with her head bowed.\n",
      "\n",
      "Verasa watched her go with some puzzlement. \"Didn't you once tell me Queen Malveria waded through a river of blood to kill a dragon?\"\n",
      "\n",
      "\"She did.\"\n",
      "\n",
      "\"It seems unlikely.\"\n",
      "\n",
      "\"There aren't any dragons left,\" said Thrix, defensively. \"These days she's more interested in fashion.\"\n",
      "\n",
      "\"You seem to have been an excellent influence on her,\" said Verasa, at which Thrix bristled but made no reply.\n",
      "\n",
      "Verasa and Markus left with their\n",
      "  Input token: Ver\n",
      "  Activation value: 1.084188461303711\n",
      "Sample 5:\n",
      "  Batch index: 737, Sequence index: 113\n",
      "  Input token seq: <|endoftext|> law right of rescission with respect to an insurance policy. Id. at 3-5. Finally, Indianapolis Life asserts that since Kennard has not alleged he has suffered any damage as a result of the non-approval of the Kennard policy, the plaintiffs have not adequately pleaded a claim for rescission. Id. at 5.\n",
      "Kennard does not contest Indianapolis Life's statement that Article 3.42 does not, by its terms, provide a statutory private right of rescission. Plaintiff's Response to Defendant Indianapolis Life Insurance Company's Partial Motion to Dismiss, and Brief in Support (\"Kennard's Indianapolis Life Response\")\n",
      "  Input token:  Dism\n",
      "  Activation value: 1.079911708831787\n",
      "\n",
      "Top 5 samples activating Feature 11419:\n",
      "Sample 1:\n",
      "  Batch index: 153, Sequence index: 88\n",
      "  Input token seq: <|endoftext|> from MSNBC, over a trillion dollars has been spent since the war on drugs began.\n",
      "\n",
      "Despite facing a felony charge, Kiernan is determined to continue to spread awareness of the drug’s potential in treating America’s veterans. In fact, he’s planning to celebrate Veterans Day in Washington surrounded by people with similar experiences.\n",
      "\n",
      "A veteran of war and the war on drugs\n",
      "\n",
      "Before we spoke, Kiernan shared a written account of an incident during his service in Panama. He joined the Army in 1990 and was eventually stationed with the 87th Infantry at Ft. Davis in Panama. While he encountered\n",
      "  Input token:  Kier\n",
      "  Activation value: 0.8793706893920898\n",
      "Sample 2:\n",
      "  Batch index: 521, Sequence index: 87\n",
      "  Input token seq: <|endoftext|> of most het-siRNAs depends on the plant-specific RNA polymerase IV (Pol IV), and ARGONAUTE4 (AGO4) is a major het-siRNA effector protein. Through genome-wide analysis of sRNA-seq data sets, we found that AGO4 is required for the accumulation of a small subset of het-siRNAs. The accumulation of AGO4-dependent het-siRNAs also requires several factors known to participate in the effector portion of the RdDM pathway, including RNA POLYMERASE V (POL V), DOMA\n",
      "  Input token: GO\n",
      "  Activation value: 0.8704153895378113\n",
      "Sample 3:\n",
      "  Batch index: 72, Sequence index: 108\n",
      "  Input token seq: <|endoftext|>Carmelo92b; @Carmelo94; @Carmelo94b; @Carmelo94c] to be $c$ and $s$ pseudoparticle-pseudohole processes relative to the canonical-ensemble ground state. This determines the $c$ and $s$ low-energy separation [@Carmelo94c], which at zero magnetization leads to the so called charge and spin separation. In this paper we find that in addition to the above pseudoparticle-pseudohole excitations there are also Fermi-surface [*quasiparticle*]\n",
      "  Input token: ud\n",
      "  Activation value: 0.8668115139007568\n",
      "Sample 4:\n",
      "  Batch index: 425, Sequence index: 115\n",
      "  Input token seq: <|endoftext|> subject to partial suppression of the mutant phenotype [@pone.0008549-Toivonen2]. In order to avoid such issues, and thus determine the global effects on gene expression of the *tko^25t^* mutation in a truly unselected, 'wild-type' background, we outbred *tko^25t^* over more than 10 generations by back-crossing to each of two commonly used wild-type strains, Canton S and Oregon R. Subsequent to this backcrossing, *tko^25t^* was maintained in each background using a balancer chromosome\n",
      "  Input token: t\n",
      "  Activation value: 0.8539313077926636\n",
      "Sample 5:\n",
      "  Batch index: 357, Sequence index: 112\n",
      "  Input token seq: <|endoftext|>type=\"ref\"} caused by strong main field inhomogeneities (particularly in the eye region due to many air‐tissue‐bone interfaces), as well as the presence of significant amounts of off‐resonant orbital fat around the eye.\n",
      "\n",
      "In this work, a Cartesian sampling scheme is used, which is more robust than spiral sampling to off‐resonance effects, but which is significantly less time‐efficient.[23](#mrm27594-bib-0023){ref-type=\"ref\"} With such a Cartesian sampling scheme, undersampling artifacts have a more structured nature compared with\n",
      "  Input token:  Cart\n",
      "  Activation value: 0.8529543876647949\n",
      "\n",
      "Top 5 samples activating Feature 26287:\n",
      "Sample 1:\n",
      "  Batch index: 343, Sequence index: 69\n",
      "  Input token seq: <|endoftext|> and came home with a gift from my hosts as well as money from book sales. (I love money!)\n",
      "\n",
      "Family members also came—and I wanted to have something easy yet tasty on hand to serve them after the program. It was snowing the morning, and I really didn’t feel like taking the Tinkymobile to the grocery store to purchase any exotic ingredients. Fortunately, I thought of Keith Brownies.\n",
      "\n",
      "This brownie recipe may be found in a book called Treasury of Tennessee Treats, published by the Keith Memorial Church in Athens, Tennessee, home of my college roommate Kelly Boyd. I\n",
      "  Input token: obile\n",
      "  Activation value: 0.8282358050346375\n",
      "Sample 2:\n",
      "  Batch index: 770, Sequence index: 66\n",
      "  Input token seq: <|endoftext|> as the odd one out on a crazy driver merry go round last year.\n",
      "\n",
      "Article continues under video\n",
      "\n",
      "The Frenchman had been set to join Renault, until a gentleman's agreement went out the window when the opportunity to sign Daniel Ricciardo arose.\n",
      "\n",
      "Ocon's previous seat at Racing Point was filled by Lance Stroll and interest from McLaren and Red Bull, with an eye on Toro Rosso, fizzled out as Mercedes would not free him from his contract.\n",
      "\n",
      "Wolff has regularly spoken of his confidence that Ocon will find a seat on the 2020 grid, and says he would be deserving\n",
      "  Input token:  Lance\n",
      "  Activation value: 0.8228509426116943\n",
      "Sample 3:\n",
      "  Batch index: 510, Sequence index: 53\n",
      "  Input token seq: <|endoftext|>\n",
      "\n",
      "Estou tentando fazer com que o jogo da velha mude o jogador que tem a vez, consegui fazer muda-lo do 'X' para o 'O', mas quando tento retornar para o 'X' e assim por diante, ele não vai.\n",
      "Segue o código que fiz até aqui:\n",
      "\n",
      "$(document).ready(function() {\n",
      "   $(\".botao\").click(function() {\n",
      "     $(this).text(\"X\");\n",
      "  Input token: ar\n",
      "  Activation value: 0.8166629672050476\n",
      "Sample 4:\n",
      "  Batch index: 920, Sequence index: 50\n",
      "  Input token seq: <|endoftext|>.\n",
      "\n",
      "Lo preocupante es que no se trata de un hecho esporádico. En los años ochenta hubo muchos militares que zarandearon, insultaron y amenazaron al general Gutiérrez Mellado y a otros militares que apostaron por la democracia, lo que llevó al general Marcelo Aramendi, que no soportó la presión, a suicidarse. Es sabido también que los militares golpistas fueron tratados más como\n",
      "  Input token:  amen\n",
      "  Activation value: 0.8123048543930054\n",
      "Sample 5:\n",
      "  Batch index: 567, Sequence index: 79\n",
      "  Input token seq: <|endoftext|> them. He caught Bodie's attention, lifted a hand, and pointed.\n",
      "\n",
      "A worried frown appeared on Bodie's face as he looked at the riders. \"Kane's men?\"\n",
      "\n",
      "\"Could be. Let's go find out.\"\n",
      "\n",
      "Hendricks had climbed over the seat into the wagon to look for the map. As Jamie and Bodie turned their horses toward the rear of the train, he stuck his head back out. \"Where are you going?\"\n",
      "\n",
      "\"Just to check something out,\" Jamie said. \"We'll have a look at that map later.\"\n",
      "\n",
      "He heeled\n",
      "  Input token:  horses\n",
      "  Activation value: 0.81104975938797\n",
      "\n",
      "Top 5 samples activating Feature 92865:\n",
      "Sample 1:\n",
      "  Batch index: 920, Sequence index: 119\n",
      "  Input token seq: <|endoftext|>.\n",
      "\n",
      "Lo preocupante es que no se trata de un hecho esporádico. En los años ochenta hubo muchos militares que zarandearon, insultaron y amenazaron al general Gutiérrez Mellado y a otros militares que apostaron por la democracia, lo que llevó al general Marcelo Aramendi, que no soportó la presión, a suicidarse. Es sabido también que los militares golpistas fueron tratados más como\n",
      "  Input token: er\n",
      "  Activation value: 0.8706415891647339\n",
      "Sample 2:\n",
      "  Batch index: 510, Sequence index: 78\n",
      "  Input token seq: <|endoftext|>\n",
      "\n",
      "Estou tentando fazer com que o jogo da velha mude o jogador que tem a vez, consegui fazer muda-lo do 'X' para o 'O', mas quando tento retornar para o 'X' e assim por diante, ele não vai.\n",
      "Segue o código que fiz até aqui:\n",
      "\n",
      "$(document).ready(function() {\n",
      "   $(\".botao\").click(function() {\n",
      "     $(this).text(\"X\");\n",
      "  Input token: dig\n",
      "  Activation value: 0.8048526048660278\n",
      "Sample 3:\n",
      "  Batch index: 757, Sequence index: 119\n",
      "  Input token seq: <|endoftext|>, we shall investigate pharmacological effect of glucocorticoid in the biochemical process.After their loss last night to the Los Angeles Kings, the Calgary Flames, who have missed the playoffs three straight years, are currently sitting in 14th place in the Western Conference with a 5-7-3 record. Many would say its early, but this shortened 48 game season is nearly 1/3 complete.\n",
      "\n",
      "The Flames, who have not won a playoff series since their dramatic run to the Stanley Cup final in 2004 continue to live off that former glory. Management led first by Darryl Sutter, and now by Jay Fe\n",
      "  Input token: l\n",
      "  Activation value: 0.8032960295677185\n",
      "Sample 4:\n",
      "  Batch index: 615, Sequence index: 110\n",
      "  Input token seq: <|endoftext|> \"Jones.\" \"Where are you going?\" \"I'd sleep closer, if i were you.\" \"For safety's sake.\" \"Dr. Jones, i'd be safer sleeping with a snake.\" \"I said, cut it out!\" \"I hate that elephant.\" \"Indy, look!\" \"I see it, shorty.\" \"That's it:\" \"Pankot palace.\" \"Dr. Jones, what you look at?\" \"Don't come up here.\" \"No!\" \"No, no, no, no!\" \"Don't leave!\" \"No!\" \"No, no, no, no, no!\"\n",
      "  Input token: Don\n",
      "  Activation value: 0.7970612049102783\n",
      "Sample 5:\n",
      "  Batch index: 238, Sequence index: 108\n",
      "  Input token seq: <|endoftext|> also limit the industrial efficiency of isomaltulose production (Cheetham, 1984, Biochemical Journal 220: 213-220; Schiweck et al., 1990, Zuckerindustrie 115: 555-565.). An ideal SI would show high speed, complete conversion, high specificity and a wide window of reaction conditions for isomaltulose production.Twist relates to tubular epithelial-mesenchymal transition and interstitial fibrogenesis in the obstructed kidney.\n",
      "Epithelial-mesenchymal transition (EMT) is a critical step in renal fibrosis. It has been recently\n",
      "  Input token: ym\n",
      "  Activation value: 0.7955267429351807\n",
      "\n",
      "Top 5 samples activating Feature 37767:\n",
      "Sample 1:\n",
      "  Batch index: 571, Sequence index: 69\n",
      "  Input token seq: <|endoftext|> In addition, similar findings were derived from a recent meta-analysis of 82 randomized controlled clinical trials with various DPP4 inhibitors treated for at least 24 weeks. The overall risk of acute heart failure was significantly elevated in the DPP4 inhibitor group compared with placebo/active comparators (*n*=69,615; Mantel-Haenszel OR, 1.19; 95% CI, 1.03 to 1.37; *P*=0.015) \\[[@B9]\\]. In Vildagliptin in Ventricular Dysfunction Diabetes (VIVIDD) trial, 254 subjects with\n",
      "  Input token: ens\n",
      "  Activation value: 1.0146108865737915\n",
      "Sample 2:\n",
      "  Batch index: 311, Sequence index: 79\n",
      "  Input token seq: <|endoftext|> supporters on polling day in 1918.\n",
      "\n",
      "As a local authority representative, O’Dowd was a member of the Irish Convention of 1917-18, which unsuccessfully attempted to reconcile North and South Ireland.\n",
      "\n",
      "He published a volume of poems, Lays of South Sligo, and contributed poems to T. D. Sullivan’s Weekly News.\n",
      "\n",
      "Publication\n",
      "Lays of South Sligo: A Few Wild Flowers of National Poetry, Dublin, Gill, 1888;  2nd ed. 1889\n",
      "\n",
      "Notes\n",
      "\n",
      "References\n",
      "\n",
      "James McConnel (2004) ‘ \"Fen\n",
      "  Input token: \n",
      "\n",
      "  Activation value: 0.8343585729598999\n",
      "Sample 3:\n",
      "  Batch index: 60, Sequence index: 89\n",
      "  Input token seq: <|endoftext|> the warriors lifted lances, but a sharp word from the chief made them lower the weapons.\n",
      "\n",
      "The ancient Cheyenne moved his pony forward until he and Moses sat alongside each other with their mounts facing in opposite directions. Moses began speaking again in Hebrew.\n",
      "\n",
      "Jamie didn't understand a word of the speech, of course. He didn't see how the Cheyenne medicine man could understand it, but the old man listened attentively. When Moses was finished, the old man surprised Jamie by lifting a hand and launching into a long speech of his own.\n",
      "\n",
      "Jamie was fluent in the Cheyenne tongue,\n",
      "  Input token:  attent\n",
      "  Activation value: 0.8292735815048218\n",
      "Sample 4:\n",
      "  Batch index: 411, Sequence index: 85\n",
      "  Input token seq: <|endoftext|>for both sexes). Education background showed that the more than half (52.9%) of the old group had postschool qualifications; the majority (80%) of the young group had any school qualification. Thus, education status was non-remarkable with no significant differences between the two groups. The participants self-identified across a range of ethnic groupings including different Pacific Island nations, such as Samoa, Tonga and Tokelau representing the dominant Pacific ethnic affiliations. Other ethnic groups included: Māori, Chinese and NZ European. This is an indicator of the growing 'diversity' of intermixing between Pacific and other\n",
      "  Input token: kel\n",
      "  Activation value: 0.8198684453964233\n",
      "Sample 5:\n",
      "  Batch index: 442, Sequence index: 51\n",
      "  Input token seq: <|endoftext|> food group options, encourage food diversity within the home and social environments and enhance access to health education about food items for the whole family.\n",
      "\n",
      "Supplementary Material\n",
      "======================\n",
      "\n",
      "###### Reviewer comments\n",
      "\n",
      "###### Author\\'s manuscript\n",
      "\n",
      "The authors would like to acknowledge the partnership funding from the Health Research Council of NZ and the Ministry of Health who supported this study. We also thank our collaborating partners: The Fono and Evolve for participating in this project. We acknowledge the efforts of collaborators: Bernhard Breier, Rozanne Kruger and Te Kani Kingi, and our research assistants: Ms H\n",
      "  Input token: \n",
      "\n",
      "  Activation value: 0.7998325824737549\n",
      "\n",
      "Top 5 samples activating Feature 62713:\n",
      "Sample 1:\n",
      "  Batch index: 889, Sequence index: 36\n",
      "  Input token seq: <|endoftext|>y cytoplasm, reminiscent of blasts. Immunohistochemically, these tumor cells show immunoreactivity for CD4 (C), CD56 (D), CD123 (E), and focal TCL1 (F).](medi-98-e14344-g001){#F1}\n",
      "\n",
      "The patient was treated with induction chemotherapy with Berlin-Frankfurt-Münster regimen used for acute lymphoblastic leukemia. She achieved complete remission. After the 1st remission, she received allogenic peripheral blood stem-cell transplant (PBSCT). No relapse was observed at 14 months after transplantation\n",
      "  Input token: 123\n",
      "  Activation value: 0.9661732912063599\n",
      "Sample 2:\n",
      "  Batch index: 531, Sequence index: 122\n",
      "  Input token seq: <|endoftext|>-fragmented conformation (e.g., *P. parva*), a large intron density (e.g., *D. salina*), non-standard genes (e.g., *C. reinhardtii*), and/or a bloated repeat-rich structure (e.g., *V. carteri*) [@pone.0057177-Smith4]. The *G. pectorale* mtDNA is gene poor, encoding 7 proteins, 2 rRNAs, and 3 unique tRNAs, representing methionine, glutamine, and tryptoph\n",
      "  Input token: amine\n",
      "  Activation value: 0.9129318594932556\n",
      "Sample 3:\n",
      "  Batch index: 342, Sequence index: 94\n",
      "  Input token seq: <|endoftext|> now have a worldwide distribution, judging from GenBank records, which reveal that the sequenced isolates came from Africa, the Americas, Asia, Europe, and Oceania (SPFMV, 34 countries/ 443 records; SPVC, 16/69; SPVG 19/150 and SPV2 9/22). By contrast, SPLV, which is the basal sister to the others, has 92 records, but only from China, South Korea, Taiwan, and Tibet, and all the most closely related viruses (PPV, hyacinth mosaic virus, and asparagus virus 1) are Asian or European,\n",
      "  Input token:  Taiwan\n",
      "  Activation value: 0.9087770581245422\n",
      "Sample 4:\n",
      "  Batch index: 889, Sequence index: 31\n",
      "  Input token seq: <|endoftext|>y cytoplasm, reminiscent of blasts. Immunohistochemically, these tumor cells show immunoreactivity for CD4 (C), CD56 (D), CD123 (E), and focal TCL1 (F).](medi-98-e14344-g001){#F1}\n",
      "\n",
      "The patient was treated with induction chemotherapy with Berlin-Frankfurt-Münster regimen used for acute lymphoblastic leukemia. She achieved complete remission. After the 1st remission, she received allogenic peripheral blood stem-cell transplant (PBSCT). No relapse was observed at 14 months after transplantation\n",
      "  Input token: 56\n",
      "  Activation value: 0.9058462977409363\n",
      "Sample 5:\n",
      "  Batch index: 342, Sequence index: 92\n",
      "  Input token seq: <|endoftext|> now have a worldwide distribution, judging from GenBank records, which reveal that the sequenced isolates came from Africa, the Americas, Asia, Europe, and Oceania (SPFMV, 34 countries/ 443 records; SPVC, 16/69; SPVG 19/150 and SPV2 9/22). By contrast, SPLV, which is the basal sister to the others, has 92 records, but only from China, South Korea, Taiwan, and Tibet, and all the most closely related viruses (PPV, hyacinth mosaic virus, and asparagus virus 1) are Asian or European,\n",
      "  Input token:  Korea\n",
      "  Activation value: 0.8997401595115662\n",
      "\n",
      "Top 5 samples activating Feature 8522:\n",
      "Sample 1:\n",
      "  Batch index: 425, Sequence index: 115\n",
      "  Input token seq: <|endoftext|> subject to partial suppression of the mutant phenotype [@pone.0008549-Toivonen2]. In order to avoid such issues, and thus determine the global effects on gene expression of the *tko^25t^* mutation in a truly unselected, 'wild-type' background, we outbred *tko^25t^* over more than 10 generations by back-crossing to each of two commonly used wild-type strains, Canton S and Oregon R. Subsequent to this backcrossing, *tko^25t^* was maintained in each background using a balancer chromosome\n",
      "  Input token: t\n",
      "  Activation value: 1.2562620639801025\n",
      "Sample 2:\n",
      "  Batch index: 280, Sequence index: 33\n",
      "  Input token seq: <|endoftext|> you for this post!\n",
      "\n",
      "\n",
      "\n",
      "You could reference it on g+, btw : -)\n",
      "\n",
      "From: (Anonymous)\n",
      "\n",
      "2013-09-10 03:58 pm (UTC)\n",
      "\n",
      "Do you think they will get the same/different response from other vendor's driver mantainers?\n",
      "\n",
      "Or is the decision to reject canonical's patch taken by the xorg foundation?\n",
      "\n",
      "\n",
      "\n",
      "Also thanks for the article.\n",
      "\n",
      "From: libv\n",
      "\n",
      "2013-09-10 04:11 pm (UTC)\n",
      "\n",
      "It was a decision taken by other parties than the actual driver maintainers. The\n",
      "  Input token: -\n",
      "  Activation value: 1.0482319593429565\n",
      "Sample 3:\n",
      "  Batch index: 879, Sequence index: 93\n",
      "  Input token seq: <|endoftext|> as quaint and outmoded as the tricorn hat.\n",
      "\n",
      "Dickens, however, not only bucked the trend but made a whole performance out of bucking it. When he was among friends, it was his custom to brew up a bowl of punch, complete with a running disquisition on the techniques he was using and the ingredients he was deploying, thus adding instruction to delight (as one of his characters might say). Fortunately, in 1847, he wrote the whole procedure out for a friend's wife. It's not hard to follow, and there's no better way to get a holiday party started than\n",
      "  Input token:  18\n",
      "  Activation value: 1.0224043130874634\n",
      "Sample 4:\n",
      "  Batch index: 344, Sequence index: 110\n",
      "  Input token seq: <|endoftext|> PM?\n",
      "8:01 AM\n",
      "What is 482 minutes after 11:50 PM?\n",
      "7:52 AM\n",
      "What is 126 minutes after 1:04 AM?\n",
      "3:10 AM\n",
      "How many minutes are there between 8:02 AM and 11:29 AM?\n",
      "207\n",
      "What is 663 minutes before 3:44 PM?\n",
      "4:41 AM\n",
      "How many minutes are there between 6:50 AM and 12:32 PM?\n",
      "342\n",
      "What is 709 minutes after 9:58 PM?\n",
      "9:47 AM\n",
      "What is 456 minutes after 9:53 PM?\n",
      "5:\n",
      "  Input token: :\n",
      "  Activation value: 1.0177209377288818\n",
      "Sample 5:\n",
      "  Batch index: 571, Sequence index: 86\n",
      "  Input token seq: <|endoftext|> In addition, similar findings were derived from a recent meta-analysis of 82 randomized controlled clinical trials with various DPP4 inhibitors treated for at least 24 weeks. The overall risk of acute heart failure was significantly elevated in the DPP4 inhibitor group compared with placebo/active comparators (*n*=69,615; Mantel-Haenszel OR, 1.19; 95% CI, 1.03 to 1.37; *P*=0.015) \\[[@B9]\\]. In Vildagliptin in Ventricular Dysfunction Diabetes (VIVIDD) trial, 254 subjects with\n",
      "  Input token: .\n",
      "  Activation value: 1.015440821647644\n",
      "\n",
      "Top 5 samples activating Feature 49976:\n",
      "Sample 1:\n",
      "  Batch index: 920, Sequence index: 57\n",
      "  Input token seq: <|endoftext|>.\n",
      "\n",
      "Lo preocupante es que no se trata de un hecho esporádico. En los años ochenta hubo muchos militares que zarandearon, insultaron y amenazaron al general Gutiérrez Mellado y a otros militares que apostaron por la democracia, lo que llevó al general Marcelo Aramendi, que no soportó la presión, a suicidarse. Es sabido también que los militares golpistas fueron tratados más como\n",
      "  Input token: ér\n",
      "  Activation value: 0.783072829246521\n",
      "Sample 2:\n",
      "  Batch index: 38, Sequence index: 71\n",
      "  Input token seq: <|endoftext|>a bao lâu đã hư. Điều này gây tốn kém hơn nếu so với việc mua ghế mới chất lượng, xài được lâu.\n",
      "\n",
      "Những điều cần làm khi mua nội th�\n",
      "  Input token:  l\n",
      "  Activation value: 0.773317813873291\n",
      "Sample 3:\n",
      "  Batch index: 326, Sequence index: 108\n",
      "  Input token seq: <|endoftext|>et avait sauté se cacher dans le torchon ; et quand elle secoua le torchon pour le trouver, il s'était glissé dans une fente de la table.\n",
      "\n",
      "— Hé, hé! Madame la maîtresse! l'appela-t-il en sortant sa petite tête.\n",
      "\n",
      "Elle voulut le frapper d'un coup de torchon, mais il était déjà dans le tiroir, où elle finit quand m\n",
      "  Input token:  dé\n",
      "  Activation value: 0.771736741065979\n",
      "Sample 4:\n",
      "  Batch index: 629, Sequence index: 43\n",
      "  Input token seq: <|endoftext|>ore respirer. Le Petit Chaperon Rouge courut chercher de grosses pierres qu'ils fourrèrent dans le ventre du loup ; et quand il se réveilla et voulut bondir, les pierres pesaient si lourd qu'il s'affala et resta mort sur le coup.\n",
      "\n",
      "Tous les trois étaient bien contents : le chasseur prit la peau du loup et rentra chez lui ; la grand-mère mangea la galette et but le vin\n",
      "  Input token:  ré\n",
      "  Activation value: 0.7632662057876587\n",
      "Sample 5:\n",
      "  Batch index: 38, Sequence index: 90\n",
      "  Input token seq: <|endoftext|>a bao lâu đã hư. Điều này gây tốn kém hơn nếu so với việc mua ghế mới chất lượng, xài được lâu.\n",
      "\n",
      "Những điều cần làm khi mua nội th�\n",
      "  Input token:  l\n",
      "  Activation value: 0.7578966021537781\n",
      "\n",
      "Top 5 samples activating Feature 89778:\n",
      "Sample 1:\n",
      "  Batch index: 789, Sequence index: 58\n",
      "  Input token seq: <|endoftext|>ium in the Periodic Table, _Physics Letters_, 26A, 6–7, 1967; D.C. Hamilton, M.A. Jensen, Mechanism for Superconductivity in lanthanum and uranium, _Physical Review Letters_, 11, 205–207, 1963; D.C. Hamilton, Position of lanthanum in the Periodic Table, _American Journal of Physics_, 33, 637–640, 1965.\n",
      "\n",
      ". The contemporary author on the periodic system, W.B. Jensen, uses the terms primary and secondary kinship, which should not be confused with the\n",
      "  Input token: 207\n",
      "  Activation value: 0.8747636675834656\n",
      "Sample 2:\n",
      "  Batch index: 352, Sequence index: 85\n",
      "  Input token seq: <|endoftext|>cur: 0x11, idx: 0x4},\n",
      "\t314: {cur: 0xf9, idx: 0xcb},\n",
      "\t315: {cur: 0x27, idx: 0x10},\n",
      "\t316: {cur: 0x2e, idx: 0x13},\n",
      "\t317: {cur: 0x40, idx: 0x4},\n",
      "\t318: {cur: 0xf9, idx: 0xcb},\n",
      "\t319: {cur: 0x43, idx: 0x4},\n",
      "\t320: {\n",
      "  Input token: 4\n",
      "  Activation value: 0.8646544814109802\n",
      "Sample 3:\n",
      "  Batch index: 496, Sequence index: 93\n",
      "  Input token seq: <|endoftext|>GARRISON, WILLARD J who was 23 (born ABT 1947) married 5 SEP 1970 in GALVESTON COUNTY, TEXAS, U.S.A. abridenamed CAROLYN A SAMPLE who was 25 (born ABT 1945).\n",
      "1272954 Check the source file (free) and then check Archives\n",
      "for WILLARD GARRISON.\n",
      "\n",
      "GARRISON, WILLARD J who was 44 (born ABT 1947) married 6 APR 1991 in GALVESTON COUNTY, TEXAS, U.S.A. abridenamed SHARON\n",
      "  Input token:  44\n",
      "  Activation value: 0.8622558116912842\n",
      "Sample 4:\n",
      "  Batch index: 672, Sequence index: 55\n",
      "  Input token seq: <|endoftext|>xfbe21, to: 0x0},\n",
      "\t252: {region: 0x4c54, code: 0x94, from: 0xf92d9, to: 0xfbd9f},\n",
      "\t253: {region: 0x4c54, code: 0x95, from: 0xf9141, to: 0xf92d9},\n",
      "\t254: {region: 0x4c54, code: 0xe4, from: 0xf5221, to: 0xf9141},\n",
      "\t255: {region: 0x4c55, code:\n",
      "  Input token: 4\n",
      "  Activation value: 0.8493673205375671\n",
      "Sample 5:\n",
      "  Batch index: 609, Sequence index: 94\n",
      "  Input token seq: <|endoftext|> 343, 342, 341?\n",
      "-w + 346\n",
      "What is the v'th term of 2146, 2144, 2142, 2140, 2138?\n",
      "-2*v + 2148\n",
      "What is the s'th term of 468, 930, 1382, 1818, 2232?\n",
      "-s**3 + s**2 + 466*s + 2\n",
      "What is the l'th term of 697, 702, 711, 724, 741, 762?\n",
      "2*l**2 - l + 696\n",
      "What is the t'th\n",
      "  Input token: 97\n",
      "  Activation value: 0.8453470468521118\n",
      "\n",
      "Top 5 samples activating Feature 7001:\n",
      "Sample 1:\n",
      "  Batch index: 320, Sequence index: 62\n",
      "  Input token seq: <|endoftext|>2 family members synergizes the antitumour efficacy of Y15 against lung cancer cells *in vitro*.**(**A**) H1299 cells with empty vector and their respective shBcl-2, shBcl-xL or shAkt1 clones were treated with Y15 for 72 h, trypan blue assay was performed to evaluate cell viability. (**B**) Western blots showing differences in the expression of Bcl-2, Bcl-xL and Akt1 in control H1299 and respective shRNA clone cells, with or without Y15. (**C**\n",
      "  Input token:  72\n",
      "  Activation value: 0.8573938012123108\n",
      "Sample 2:\n",
      "  Batch index: 342, Sequence index: 94\n",
      "  Input token seq: <|endoftext|> now have a worldwide distribution, judging from GenBank records, which reveal that the sequenced isolates came from Africa, the Americas, Asia, Europe, and Oceania (SPFMV, 34 countries/ 443 records; SPVC, 16/69; SPVG 19/150 and SPV2 9/22). By contrast, SPLV, which is the basal sister to the others, has 92 records, but only from China, South Korea, Taiwan, and Tibet, and all the most closely related viruses (PPV, hyacinth mosaic virus, and asparagus virus 1) are Asian or European,\n",
      "  Input token:  Taiwan\n",
      "  Activation value: 0.8464886546134949\n",
      "Sample 3:\n",
      "  Batch index: 634, Sequence index: 44\n",
      "  Input token seq: <|endoftext|> applicants' race into account in admissions decisions. Such a result, the panelists argued, would have serious consequences for social equity and diversity at Stanford. The panel consisted of legal scholar Deborah Rhode, historian Allyson Hobbs, and legal counsel Tom Fenner.\n",
      "\n",
      "“My own view is that color-blind admissions policies come several centuries too late and at least a generation too early.”\n",
      "\n",
      "Fisher v. University of Texas puts on trial a 2003 precedent that confirmed a limited role for racial considerations in admissions decisions. Although prohibiting universities from using racial quotas, the 2003 decision allows consideration of race as part of a\n",
      "  Input token: bs\n",
      "  Activation value: 0.8414702415466309\n",
      "Sample 4:\n",
      "  Batch index: 562, Sequence index: 30\n",
      "  Input token seq: <|endoftext|> Indeed, the lack of efficacy of combined PI3K/Akt and MEK pathway inhibition in KRAS-mutant lung cancers can be attributed to the inability to induce apoptosis, as inhibition of Bcl-xL restores cytotoxicity and the apoptotic response ([@bib17]). We have demonstrated that Y15 induces apoptosis. Our results showed that Bcl-2, Bcl-xL and Mcl-1 downregulation contributed significantly to Y15-induced apoptosis. In addition, combination therapy with Bcl-2/Bcl-xL inhibitor, such as ABT263, potent\n",
      "  Input token:  attributed\n",
      "  Activation value: 0.835722029209137\n",
      "Sample 5:\n",
      "  Batch index: 411, Sequence index: 82\n",
      "  Input token seq: <|endoftext|>for both sexes). Education background showed that the more than half (52.9%) of the old group had postschool qualifications; the majority (80%) of the young group had any school qualification. Thus, education status was non-remarkable with no significant differences between the two groups. The participants self-identified across a range of ethnic groupings including different Pacific Island nations, such as Samoa, Tonga and Tokelau representing the dominant Pacific ethnic affiliations. Other ethnic groups included: Māori, Chinese and NZ European. This is an indicator of the growing 'diversity' of intermixing between Pacific and other\n",
      "  Input token: a\n",
      "  Activation value: 0.825444757938385\n"
     ]
    },
    {
     "name": "stderr",
     "output_type": "stream",
     "text": [
      "\n"
     ]
    }
   ],
   "source": [
    "for feature_idx in tqdm.tqdm(top_features, desc=\"Finding top features\"):\n",
    "    # Get activations for this feature across all samples\n",
    "    feature_activations = samples[:, feature_idx]\n",
    "    # Get top K samples with highest activations\n",
    "    K = 5\n",
    "    topk = torch.topk(feature_activations, K)\n",
    "\n",
    "    topk_values = topk.values\n",
    "    topk_indices = topk.indices\n",
    "\n",
    "    print(f\"\\nTop {K} samples activating Feature {feature_idx.item()}:\")\n",
    "    for i, idx in enumerate(topk_indices):\n",
    "        # Map back to batch and sequence indices\n",
    "        sample_idx = idx.item()\n",
    "        batch_idx = sample_idx // transcoder_hidden_activations_tensor.shape[1]\n",
    "        seq_idx = sample_idx % transcoder_hidden_activations_tensor.shape[1]\n",
    "\n",
    "        input_token_seq = token_inputs_tensor[batch_idx]\n",
    "        input_token = input_token_seq[seq_idx]\n",
    "        input_token_seq_str = model.tokenizer.decode(input_token_seq.tolist())\n",
    "        input_token_str = model.tokenizer.decode(input_token.item())\n",
    "        activation_value = topk_values[i].item()\n",
    "\n",
    "        print(f\"Sample {i+1}:\")\n",
    "        print(f\"  Batch index: {batch_idx}, Sequence index: {seq_idx}\")\n",
    "        print(f\"  Input token seq: {input_token_seq_str}\")\n",
    "        print(f\"  Input token: {input_token_str}\")\n",
    "        print(f\"  Activation value: {activation_value}\")"
   ]
  },
  {
   "cell_type": "code",
   "execution_count": 65,
   "id": "71e75f94",
   "metadata": {},
   "outputs": [
    {
     "data": {
      "image/png": "[encoded data removed]",
      "text/plain": [
       "<Figure size 1200x800 with 2 Axes>"
      ]
     },
     "metadata": {},
     "output_type": "display_data"
    }
   ],
   "source": [
    "import numpy as np\n",
    "\n",
    "# Select a subset of data for visualization\n",
    "num_samples_to_plot = 100\n",
    "features_to_plot = top_features[:5]  # Select top 5 features\n",
    "activations_subset = samples[:num_samples_to_plot, features_to_plot]\n",
    "\n",
    "plt.figure(figsize=(12, 8))\n",
    "sns.heatmap(activations_subset.cpu().numpy(), cmap=\"viridis\")\n",
    "plt.title(\"Activation Heatmap of Top Features\")\n",
    "plt.xlabel(\"Feature Index\")\n",
    "plt.ylabel(\"Sample Index\")\n",
    "plt.show()"
   ]
  },
  {
   "cell_type": "code",
   "execution_count": null,
   "id": "b8e74dc0",
   "metadata": {},
   "outputs": [],
   "source": []
  }
 ],
 "metadata": {
  "kernelspec": {
   "display_name": "Python 3 (ipykernel)",
   "language": "python",
   "name": "python3"
  },
  "language_info": {
   "codemirror_mode": {
    "name": "ipython",
    "version": 3
   },
   "file_extension": ".py",
   "mimetype": "text/x-python",
   "name": "python",
   "nbconvert_exporter": "python",
   "pygments_lexer": "ipython3",
   "version": "3.10.12"
  }
 },
 "nbformat": 4,
 "nbformat_minor": 5
}
